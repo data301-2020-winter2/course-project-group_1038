{
 "cells": [
  {
   "cell_type": "code",
<<<<<<< HEAD
   "execution_count": 68,
   "id": "usual-update",
=======
   "execution_count": 1,
>>>>>>> cc8b1c3 (Reformated eda)
   "metadata": {},
   "outputs": [
    {
     "data": {
      "text/html": [
       "<div>\n",
       "<style scoped>\n",
       "    .dataframe tbody tr th:only-of-type {\n",
       "        vertical-align: middle;\n",
       "    }\n",
       "\n",
       "    .dataframe tbody tr th {\n",
       "        vertical-align: top;\n",
       "    }\n",
       "\n",
       "    .dataframe thead th {\n",
       "        text-align: right;\n",
       "    }\n",
       "</style>\n",
       "<table border=\"1\" class=\"dataframe\">\n",
       "  <thead>\n",
       "    <tr style=\"text-align: right;\">\n",
       "      <th></th>\n",
       "      <th>Unnamed: 0</th>\n",
       "      <th>created_at</th>\n",
       "      <th>last_move_at</th>\n",
       "      <th>turns</th>\n",
       "      <th>victory_status</th>\n",
       "      <th>winner</th>\n",
       "      <th>increment_code</th>\n",
       "      <th>white_rating</th>\n",
       "      <th>black_rating</th>\n",
       "      <th>moves</th>\n",
       "      <th>opening_eco</th>\n",
       "      <th>opening_name</th>\n",
       "    </tr>\n",
       "  </thead>\n",
       "  <tbody>\n",
       "    <tr>\n",
       "      <th>0</th>\n",
       "      <td>1</td>\n",
       "      <td>1.504130e+12</td>\n",
       "      <td>1.504130e+12</td>\n",
       "      <td>16</td>\n",
       "      <td>resign</td>\n",
       "      <td>black</td>\n",
       "      <td>5+10</td>\n",
       "      <td>1322</td>\n",
       "      <td>1261</td>\n",
       "      <td>d4 Nc6 e4 e5 f4 f6 dxe5 fxe5 fxe5 Nxe5 Qd4 Nc6...</td>\n",
       "      <td>B00</td>\n",
       "      <td>Nimzowitsch Defense: Kennedy Variation</td>\n",
       "    </tr>\n",
       "    <tr>\n",
       "      <th>1</th>\n",
       "      <td>2</td>\n",
       "      <td>1.504130e+12</td>\n",
       "      <td>1.504130e+12</td>\n",
       "      <td>61</td>\n",
       "      <td>mate</td>\n",
       "      <td>white</td>\n",
       "      <td>5+10</td>\n",
       "      <td>1496</td>\n",
       "      <td>1500</td>\n",
       "      <td>e4 e5 d3 d6 Be3 c6 Be2 b5 Nd2 a5 a4 c5 axb5 Nc...</td>\n",
       "      <td>C20</td>\n",
       "      <td>King's Pawn Game: Leonardis Variation</td>\n",
       "    </tr>\n",
       "    <tr>\n",
       "      <th>2</th>\n",
       "      <td>3</td>\n",
       "      <td>1.504110e+12</td>\n",
       "      <td>1.504110e+12</td>\n",
       "      <td>61</td>\n",
       "      <td>mate</td>\n",
       "      <td>white</td>\n",
       "      <td>20+0</td>\n",
       "      <td>1439</td>\n",
       "      <td>1454</td>\n",
       "      <td>d4 d5 Nf3 Bf5 Nc3 Nf6 Bf4 Ng4 e3 Nc6 Be2 Qd7 O...</td>\n",
       "      <td>D02</td>\n",
       "      <td>Queen's Pawn Game: Zukertort Variation</td>\n",
       "    </tr>\n",
       "    <tr>\n",
       "      <th>3</th>\n",
       "      <td>4</td>\n",
       "      <td>1.504030e+12</td>\n",
       "      <td>1.504030e+12</td>\n",
       "      <td>95</td>\n",
       "      <td>mate</td>\n",
       "      <td>white</td>\n",
       "      <td>30+3</td>\n",
       "      <td>1523</td>\n",
       "      <td>1469</td>\n",
       "      <td>e4 e5 Nf3 d6 d4 Nc6 d5 Nb4 a3 Na6 Nc3 Be7 b4 N...</td>\n",
       "      <td>C41</td>\n",
       "      <td>Philidor Defense</td>\n",
       "    </tr>\n",
       "    <tr>\n",
       "      <th>4</th>\n",
       "      <td>5</td>\n",
       "      <td>1.504240e+12</td>\n",
       "      <td>1.504240e+12</td>\n",
       "      <td>5</td>\n",
       "      <td>draw</td>\n",
       "      <td>draw</td>\n",
       "      <td>10+0</td>\n",
       "      <td>1250</td>\n",
       "      <td>1002</td>\n",
       "      <td>e4 c5 Nf3 Qa5 a3</td>\n",
       "      <td>B27</td>\n",
       "      <td>Sicilian Defense: Mongoose Variation</td>\n",
       "    </tr>\n",
       "    <tr>\n",
       "      <th>...</th>\n",
       "      <td>...</td>\n",
       "      <td>...</td>\n",
       "      <td>...</td>\n",
       "      <td>...</td>\n",
       "      <td>...</td>\n",
       "      <td>...</td>\n",
       "      <td>...</td>\n",
       "      <td>...</td>\n",
       "      <td>...</td>\n",
       "      <td>...</td>\n",
       "      <td>...</td>\n",
       "      <td>...</td>\n",
       "    </tr>\n",
       "    <tr>\n",
       "      <th>18373</th>\n",
       "      <td>20053</td>\n",
       "      <td>1.499791e+12</td>\n",
       "      <td>1.499791e+12</td>\n",
       "      <td>24</td>\n",
       "      <td>resign</td>\n",
       "      <td>white</td>\n",
       "      <td>10+10</td>\n",
       "      <td>1691</td>\n",
       "      <td>1220</td>\n",
       "      <td>d4 f5 e3 e6 Nf3 Nf6 Nc3 b6 Be2 Bb7 O-O Be7 Ne5...</td>\n",
       "      <td>A80</td>\n",
       "      <td>Dutch Defense</td>\n",
       "    </tr>\n",
       "    <tr>\n",
       "      <th>18374</th>\n",
       "      <td>20054</td>\n",
       "      <td>1.499698e+12</td>\n",
       "      <td>1.499699e+12</td>\n",
       "      <td>82</td>\n",
       "      <td>mate</td>\n",
       "      <td>black</td>\n",
       "      <td>10+0</td>\n",
       "      <td>1233</td>\n",
       "      <td>1196</td>\n",
       "      <td>d4 d6 Bf4 e5 Bg3 Nf6 e3 exd4 exd4 d5 c3 Bd6 Bd...</td>\n",
       "      <td>A41</td>\n",
       "      <td>Queen's Pawn</td>\n",
       "    </tr>\n",
       "    <tr>\n",
       "      <th>18375</th>\n",
       "      <td>20055</td>\n",
       "      <td>1.499698e+12</td>\n",
       "      <td>1.499698e+12</td>\n",
       "      <td>35</td>\n",
       "      <td>mate</td>\n",
       "      <td>white</td>\n",
       "      <td>10+0</td>\n",
       "      <td>1219</td>\n",
       "      <td>1286</td>\n",
       "      <td>d4 d5 Bf4 Nc6 e3 Nf6 c3 e6 Nf3 Be7 Bd3 O-O Nbd...</td>\n",
       "      <td>D00</td>\n",
       "      <td>Queen's Pawn Game: Mason Attack</td>\n",
       "    </tr>\n",
       "    <tr>\n",
       "      <th>18376</th>\n",
       "      <td>20056</td>\n",
       "      <td>1.499696e+12</td>\n",
       "      <td>1.499697e+12</td>\n",
       "      <td>109</td>\n",
       "      <td>resign</td>\n",
       "      <td>white</td>\n",
       "      <td>10+0</td>\n",
       "      <td>1360</td>\n",
       "      <td>1227</td>\n",
       "      <td>e4 d6 d4 Nf6 e5 dxe5 dxe5 Qxd1+ Kxd1 Nd5 c4 Nb...</td>\n",
       "      <td>B07</td>\n",
       "      <td>Pirc Defense</td>\n",
       "    </tr>\n",
       "    <tr>\n",
       "      <th>18377</th>\n",
       "      <td>20057</td>\n",
       "      <td>1.499643e+12</td>\n",
       "      <td>1.499644e+12</td>\n",
       "      <td>78</td>\n",
       "      <td>mate</td>\n",
       "      <td>black</td>\n",
       "      <td>10+0</td>\n",
       "      <td>1235</td>\n",
       "      <td>1339</td>\n",
       "      <td>d4 d5 Bf4 Na6 e3 e6 c3 Nf6 Nf3 Bd7 Nbd2 b5 Bd3...</td>\n",
       "      <td>D00</td>\n",
       "      <td>Queen's Pawn Game: Mason Attack</td>\n",
       "    </tr>\n",
       "  </tbody>\n",
       "</table>\n",
       "<p>18378 rows × 12 columns</p>\n",
       "</div>"
      ],
      "text/plain": [
       "       Unnamed: 0    created_at  last_move_at  turns victory_status winner  \\\n",
       "0               1  1.504130e+12  1.504130e+12     16         resign  black   \n",
       "1               2  1.504130e+12  1.504130e+12     61           mate  white   \n",
       "2               3  1.504110e+12  1.504110e+12     61           mate  white   \n",
       "3               4  1.504030e+12  1.504030e+12     95           mate  white   \n",
       "4               5  1.504240e+12  1.504240e+12      5           draw   draw   \n",
       "...           ...           ...           ...    ...            ...    ...   \n",
       "18373       20053  1.499791e+12  1.499791e+12     24         resign  white   \n",
       "18374       20054  1.499698e+12  1.499699e+12     82           mate  black   \n",
       "18375       20055  1.499698e+12  1.499698e+12     35           mate  white   \n",
       "18376       20056  1.499696e+12  1.499697e+12    109         resign  white   \n",
       "18377       20057  1.499643e+12  1.499644e+12     78           mate  black   \n",
       "\n",
       "      increment_code  white_rating  black_rating  \\\n",
       "0               5+10          1322          1261   \n",
       "1               5+10          1496          1500   \n",
       "2               20+0          1439          1454   \n",
       "3               30+3          1523          1469   \n",
       "4               10+0          1250          1002   \n",
       "...              ...           ...           ...   \n",
       "18373          10+10          1691          1220   \n",
       "18374           10+0          1233          1196   \n",
       "18375           10+0          1219          1286   \n",
       "18376           10+0          1360          1227   \n",
       "18377           10+0          1235          1339   \n",
       "\n",
       "                                                   moves opening_eco  \\\n",
       "0      d4 Nc6 e4 e5 f4 f6 dxe5 fxe5 fxe5 Nxe5 Qd4 Nc6...         B00   \n",
       "1      e4 e5 d3 d6 Be3 c6 Be2 b5 Nd2 a5 a4 c5 axb5 Nc...         C20   \n",
       "2      d4 d5 Nf3 Bf5 Nc3 Nf6 Bf4 Ng4 e3 Nc6 Be2 Qd7 O...         D02   \n",
       "3      e4 e5 Nf3 d6 d4 Nc6 d5 Nb4 a3 Na6 Nc3 Be7 b4 N...         C41   \n",
       "4                                       e4 c5 Nf3 Qa5 a3         B27   \n",
       "...                                                  ...         ...   \n",
       "18373  d4 f5 e3 e6 Nf3 Nf6 Nc3 b6 Be2 Bb7 O-O Be7 Ne5...         A80   \n",
       "18374  d4 d6 Bf4 e5 Bg3 Nf6 e3 exd4 exd4 d5 c3 Bd6 Bd...         A41   \n",
       "18375  d4 d5 Bf4 Nc6 e3 Nf6 c3 e6 Nf3 Be7 Bd3 O-O Nbd...         D00   \n",
       "18376  e4 d6 d4 Nf6 e5 dxe5 dxe5 Qxd1+ Kxd1 Nd5 c4 Nb...         B07   \n",
       "18377  d4 d5 Bf4 Na6 e3 e6 c3 Nf6 Nf3 Bd7 Nbd2 b5 Bd3...         D00   \n",
       "\n",
       "                                 opening_name  \n",
       "0      Nimzowitsch Defense: Kennedy Variation  \n",
       "1       King's Pawn Game: Leonardis Variation  \n",
       "2      Queen's Pawn Game: Zukertort Variation  \n",
       "3                            Philidor Defense  \n",
       "4        Sicilian Defense: Mongoose Variation  \n",
       "...                                       ...  \n",
       "18373                           Dutch Defense  \n",
       "18374                            Queen's Pawn  \n",
       "18375         Queen's Pawn Game: Mason Attack  \n",
       "18376                            Pirc Defense  \n",
       "18377         Queen's Pawn Game: Mason Attack  \n",
       "\n",
       "[18378 rows x 12 columns]"
      ]
     },
     "execution_count": 1,
     "metadata": {},
     "output_type": "execute_result"
    }
   ],
   "source": [
    "import seaborn as sns\n",
    "import numpy as np\n",
    "import pandas as pd\n",
    "import matplotlib.pyplot as plt\n",
    "\n",
    "from scripts import functions\n",
    "\n",
    "#setup color pallet\n",
    "BLACK = \"#000000\"\n",
    "WHITE = \"#FFFFFF\"\n",
    "GRAY = \"#3B3131\"\n",
    "BACKGROUND_1 = \"#008080\"\n",
    "project_pallet = {\"black\":        \"#000000\",\n",
    "                  \"white\":        \"#FFFFFF\",\n",
    "                  \"draw\":         \"#3B3131\",\n",
    "                  \"background_1\": \"#008080\",\n",
    "                  \"background_2\": \"#00cbf6\",\n",
    "                  \"resign\":       \"#7700ff\",\n",
    "                  \"mate\":         \"#ff0000\",\n",
    "                  \"outoftime\":  \"#00ff95\",\n",
    "                  \"turns\":        \"#ff00dd\"}\n",
    "\n",
    "# load dataframe\n",
    "df = functions.load('../../data/processed/data.csv')\n",
    "df"
   ]
  },
  {
   "cell_type": "markdown",
   "id": "smoking-bronze",
   "metadata": {},
   "source": [
    "# **Task 5 Research Analysis**\n",
    "\n",
<<<<<<< HEAD
    "Research Question: What are the amount of turns in each game for White Winners, Black\n",
    "Winners. We also wanted to find out the amount of turns overall for each games. In the future\n",
    "we are looking to find an average number of turns for a winning game. This can be shown in the\n",
    "Scatterplot shown below.\n",
    "\n",
    "- It seems that the threshold of turns durastically increases in games that end as a draw, as oppopsed to a white winner or a a black winner.\n",
    "- It also seems that the difference between white and black winning is quite small. I would like to research the exact difference in the future."
   ]
  },
  {
   "cell_type": "markdown",
   "id": "outside-jackson",
   "metadata": {},
   "source": [
    "In our analyses, we looked into the amount of turns each game, and formulated a histogram\n",
    "from the results which can be shown below. \n",
    "1. The majority of the games consisted of around 40 - 8 terms, with a steep drop off after that. \n",
    "2. Most games were less than 75 turns, afterwards the amount of games steeply falls.\n",
    "3. In the future, I would like to investigate how many games ended in a draw after around 150 turns."
=======
    "# Research Question: \n",
    "**What is the spread of the amount of turns in each game** <br>\n",
    "We wanted to observe the frequency of turns in all games and in games ending in checkmate to see if any common patterns appeared. "
>>>>>>> cc8b1c3 (Reformated eda)
   ]
  },
  {
   "cell_type": "code",
<<<<<<< HEAD
   "execution_count": 59,
   "id": "gorgeous-fifth",
=======
   "execution_count": 2,
>>>>>>> cc8b1c3 (Reformated eda)
   "metadata": {},
   "outputs": [
    {
     "data": {
      "image/png": "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\n",
      "text/plain": [
       "<Figure size 432x288 with 1 Axes>"
      ]
     },
     "metadata": {
      "needs_background": "light"
     },
     "output_type": "display_data"
    }
   ],
   "source": [
    "ax = df['turns'].plot(kind='hist', bins = 50, color=project_pallet[\"turns\"], edgecolor='black')\n",
    "ax.set_facecolor(project_pallet[\"background_2\"])\n",
    "ax.set_xticks(np.arange(0, 300, 20))\n",
    "plt.xlabel(\"Turns\")\n",
    "plt.title('Number of Turns Per Game')\n",
    "plt.savefig('../../images/number_of_turns_all_games.png')"
   ]
  },
  {
   "cell_type": "markdown",
   "id": "aggressive-arnold",
   "metadata": {},
   "source": [
    "## Analysis:\n",
    "\n",
    "&nbsp;&nbsp;&nbsp;&nbsp; From the histogram it can be seen that the majority of games consisted of around 40 - 80 turns with a steep drop off after 80. This can be explained by multiple factors but the most common conclusion that can be made is that most games either don't get to a more complex point (if the player resigns), or can also be caused by common blunders winning the game for either player."
   ]
  },
  {
   "cell_type": "code",
<<<<<<< HEAD
   "execution_count": 65,
   "id": "horizontal-pharmaceutical",
=======
   "execution_count": 3,
>>>>>>> cc8b1c3 (Reformated eda)
   "metadata": {},
   "outputs": [
    {
     "data": {
      "image/png": "iVBORw0KGgoAAAANSUhEUgAAAY4AAAEWCAYAAABxMXBSAAAAOXRFWHRTb2Z0d2FyZQBNYXRwbG90bGliIHZlcnNpb24zLjMuNCwgaHR0cHM6Ly9tYXRwbG90bGliLm9yZy8QVMy6AAAACXBIWXMAAAsTAAALEwEAmpwYAAAhSklEQVR4nO3de5wcVZn/8c8XQhICkRAQCEkkCBjEVSASLguuCGgQFdQfIgoKbCDrdcUrQXcF1suKuqKuCAaRmyAgXsjyQxGQuCsKGO6XkCXcTMIlhhDuJAae/eOcMTVNz0xXd9dMz8z3/XrNa6pOVZ1+qk93P13nVFcpIjAzM2vUOgMdgJmZDS5OHGZmVooTh5mZleLEYWZmpThxmJlZKU4cZmZWihNHB5B0tqQvD9BjS9JZkh6XdMNAxFCGpNMl/etAxzFYSdpb0pLC/J2S9q7gcQ6T9Jt215vrniIpJI1oc70D9j4cbJw46pD0gKRlkjYolB0tad4AhlWVvYA3A5MiYtfiAkmfl/R0/nte0guF+TsHItiI+FBEfKnZ7SW9WdI1kp6S9JikWyQdJ2l0O+Nsp/yBtrrw3D8t6dZ21B0Rr4mIee2oq6be8yPiLc1uL+lVkn4qabmkJyTdJulTktZtZ5wDQdKRkn4/0HG0womjZ+sCnxjoIMpq4o21FfBARDxTuyAivhoRG0bEhsCHgD92zUfEa0rE1NZvhs2S9B7gEuACYKuI2AR4LzAJmDyQsTXg64XnfsOI2HGgA6qKpG2A64HFwGsjYiPgPcAuwNiBjM0SJ46efQP4jKRxtQvqHSpLmifp6Dx9pKRrJZ0iaaWk+yT9fS5fnI9mjqipdlNJV+Zvwr+TtFWh7u3zshWSFko6pLDsbEmnSbpc0jPAm+rEu6WkuXn7RZKOyeUzgR8Ce+RvsSc1+uTk/d+2Jo4v5+m9JS3J3+QfAc6SdKKkiyWdm/fxTkm7FLY/TtLSvGyhpH17eNx6j/Pp/Jw+LOmoHrYT8C3g3yLijIhYARARCyPi4xFxT15vV0l/zO32sKTvSRpZs98fkXRPjvVLkraR9AdJT+Z9LK7/9nxUszKv87qy+9xHO3S9Fo+Q9Of8Df0LheXr5+fscUl3AdNrtn9A0n55uq82mibp5rzsp5IuUg9dO7XfqnOMH8rP20pJp+Y2qeck4A8R8amIeBj+1k7vj4iVhfUO62Gf15E0W9K9SkeVF0saX1i+V26Llfn9eGSd+McqHZl+V8nZkr4v6Vf5vXKtpC0kfTs/t3dL2rmwfdfjPyXpLknvyuWvBk5n7XtuZS4fJembeX8eVeqSXb+H52fAOXH0bD4wD/hMk9vvBtwGbEL6hnsh6U27LXA48D1JGxbWPwz4ErApcAtwPoBSd9mVuY7NgEOB70vaobDt+4GvkL6N1TsEvhBYAmwJHAx8VdI+EXEm3Y8kTmhyX+vZAhhPOqKZlcsOzLGMA+YC38v7OBX4GDA9IsYCM4AHSjzORsBEYCZwqqSN66w3lXRk8bM+6nsB+CSpHfYA9gU+UrPODOD1wO7A54A5pDadDPwd8L68XzsDPwL+ifQ6+AEwN39ItLLP9eyV93Ff4Iv5AwrgBGCb/DcDqP3CUqunNhoJ/AI4m9SuPwHeVTLGt5PeA68DDsnx1LMf6ciwLz3t88eBdwJvJL3mHwdOzfuxFfAr4D+BlwM7kd5vfyNpE+Bq4NqI+OdYe12mQ4B/Ib02VgF/BG7K85eQvph0uRd4A+m1eRLwY0kTImIB3d9z4/L6XwNelePZlvR6/mIDz8HAiAj/1fyR3sD7kT4EniC9wI4G5uXlU4AARhS2mQccnaePBO4pLHttXn/zQtljwE55+mzgwsKyDUkfYJNJXSn/UxPfD4ATCtue28u+TM51jS2U/TtwdiHW3zfwnHRbL+/PtoX5s4Ev5+m9gdXA6MLyE4GrCvM7AM/l6W2BZfk5X6+POGof57madlgG7F5nu71yzMWYLgRWAs8CH+jh8Y4FflGz33sW5m8EjivM/wfw7Tx9GvClmvoWkj7Qyu7z8znWrr9zal6Lkwrr3wAcmqfvA/YvLJsFLKl9rTfQRv8ALAVUWP77rrZo8PWyV2H+YmB2D9v+tRhzneV97fMCYN/Csgm5zhHA8cX2rPM8/wi4A/hsnWVnFOY/DiyoeY+v7CXmW4CDenhuBDwDbFMo2wO4v6/35UD9+YijFxFxB3AZMLuJzR8tTD+X66stKx5xLC487tPACtK3pa2A3fJh9cp8aHsY6Zv2S7atY0tgRUQ8VSh7kPSNpkp/iYjna8oeKUw/C4yWNCIiFpE+oE8Elkm6UNKWDT7OYxGxpqbeDeutl/9P6CqIiEMjfeO7iTSm1TUoe5mkRyQ9CXyV9I2yqLYde2rXrYBP17TdZGDLJvb5mxExrvBXe+RQ+9x2xbAl3V8fD/byGPXqGa3UJbslsDTyp1rW2+uukbrrtROktprQw7JG6tsK+EXhOV9A+vK0Oen5v7eXOt8GrE/qTqrVaLsj6YOFLsqVpC+hta+jLi8HxgA3Ftb/dS7vSE4cfTsBOIbuH7RdA8ljCmXFD/Jm/G1wNndhjQceIr05f1fzobFhRHy4sG1vlzh+CBgvqTio+ArSt8dWPEvv+1/qsssRcUFE7EV60wdwcmvhvcRC0j6/u4/1TgPuBraLiJcBnyd9I2zGYuArNW03JiJ+Av2yzwAP033g/xUt1DOxZlyiqhMKrgL+XwvbLwbeWvO8j46IpXnZNr1sewbpQ/tyFc6qLCN3h51B6orcJH85uYO1r6Pa98ZyUuJ5TSHejSKdlNKRnDj6kL8ZXgT8c6HsL6QPocMlrSvpH+n9xdiIA/Kg3UjSWMd1EbGYdMTzKkkfkLRe/pte6M/tK/7FwB+Af5c0Wmlwdibw4xbjvQV4f97//UndL02RNFXSPpJGkbpkngNebDG+biLiReDTwAmSjpG0cR703I70TbTLWOBJ4GlJ2wMfrlNdo84APiRpt/xYG0h6Wx54rXyfs4uB4/P+TiJ1sTTjj6Rv7R+TNELSQcCufWzTrBOAv5f0DUlbAEjaVtKPVedklTpOB76SP8CR9PIcL6Sxw/0kHZL3YxNJO9Vs/zHSF43/anKAegNScvhLfvyjSEccXR4FJuX3etdr8wzgFEmb5W0mSuppDGjAOXE05t9IL4aiY4DPkg6rX0P6cG7FBaQ3zArSwOvhALmL6S2kQfGHSIfnJwOjStT9PlK/8EOkAc4TIuKqFuP9BPAOUn/7YcAvW6hrFGlwcDlp/zYj9UW3VURcRBrgPJz0zXM56YN1DvDTvNpnSCcbPEV6M1/UwuPNJ71OvkcaoF1E6t+G8vv8OXX/HcfyBsM4idQ9dT/wG+C8svsBEBGrSUdrM0ltfjjpS82qZurr47HuJfXxTwHulPQE6aSG+aR26ct3SAP7v5H0FHAd6WQVIuLPwAGkLxErSF+Aup3anLvjZpFOKLlUJX/jExF3kca6/khKEq8Fri2s8lvgTuCRQjseR3p9XJe7SK8iDfx3JHXvsjQza4yk64HTI+KsgY7F+pePOMysIZLeqPTbhRFKv0N6HWk8wIaZjvhFr5kNClNJXXsbkE7zPTjyD/RseHFXlZmZleKuKjMzK2VQd1Vp3KbBls2elm5mNkwtuHl5RDT9A8NBnTjY8hVw7rV9r2dmZmtNH9PXFQR65a4qMzMrxYnDzMxKceIwM7NSKk0cSjeJuT1fJXJ+LhuvdFOie/L/jXO5lG6askjpNpHTqozNzMya0x9HHG+KiJ0ioutOYrOBqyNiO9LNUrouWf5WYLv8N4t0lVIzM+swA9FVdRBwTp4+h3Snrq7ycyO5DhgnqZFr8puZWT+qOnEE6QqVN0rqun3o5oXLFDzC2ktaT6T7jWGWUOdmQ5JmSZovaT6PN3qBUDMza5eqf8exV0QszdeYv1LS3cWFERGSyt7wZw7pMthoh2m+XoqZWT+r9Igj33GLiFhGug/ErsCjXV1Q+f+yvPpSut9RbBKt36XOzMzarLLEke92NrZrmnQzojtIN1jpul/yEcCleXou8MF8dtXuwBO+8mZ5o2ZMheljuv2NmtGx94Mxs0Goyq6qzUk3jO96nAsi4teS/gRcLGkm6c5kh+T1LyfdmWsR6X7WR1UY25C1asVignu7lWlFq3e1NTNbq7LEERH3UXNLxlz+GLBvnfIAPlpVPGZm1h7+5biZmZXixGFmZqU4cZiZWSlOHGZmVooTh5mZleLEYWZmpThxmJlZKU4cZmZWihOHmZmV4sRhZmalOHGYmVkpThxmZlaKE4eZmZXixGFmZqU4cZiZWSlOHGZmVkqVdwC0JoyaMZVVKxa/tHz8ZFZdsXAAIjIz686Jo8PUu/Ur+PavZtY53FVlZmalOHGYmVkpThxmZlaKE4eZmZXixGFmZqU4cZiZWSk+HXeYqvd7Ef9WxMwa4cQxTNX7vYh/K2JmjXBXlZmZleLEYWZmpThxmJlZKU4cZmZWihOHmZmV4sRhZmalOHGYmVkplScOSetKulnSZXl+a0nXS1ok6SJJI3P5qDy/KC+fUnVsZmZWXn8ccXwCWFCYPxk4JSK2BR4HZubymcDjufyUvJ6ZmXWYShOHpEnA24Af5nkB+wCX5FXOAd6Zpw/K8+Tl++b1zcysg1R9xPFt4HPAi3l+E2BlRKzJ80uAiXl6IrAYIC9/Iq/fjaRZkuZLms/jyysM3czM6qkscUh6O7AsIm5sZ70RMScidomIXdh403ZWbWZmDajyIod7AgdKOgAYDbwM+A4wTtKIfFQxCVia118KTAaWSBoBbAQ8VmF8ZmbWhMqOOCLi+IiYFBFTgEOB30bEYcA1wMF5tSOAS/P03DxPXv7biIiq4jMzs+YMxGXVjwMulPRl4GbgzFx+JnCepEXAClKysTYYxUhWTR8z0GGY2RDRL4kjIuYB8/L0fcCuddZ5HnhPf8Qz3Kxi9UvvvYHvvWFmzfEvx83MrBTfAXAQq3f7VzOzqjlxDGJ1b//qLigzq5i7qszMrBQnDjMzK8WJw8zMSnHiMDOzUpw4zMysFCcOMzMrxYnDzMxKceIwM7NSnDjMzKwUJw4zMyvFicPMzEpx4jAzs1KcOMzMrBRfHXeQ8F38zKxTOHEMEr6Ln5l1CndVmZlZKU4cZmZWihOHmZmV4sRhZmalOHGYmVkpThxmZlaKE4eZmZXixGFmZqU4cZiZWSlOHGZmVooTh5mZleLEYWZmpTSUOCS9tupAzMxscGj0iOP7km6Q9BFJG1UakZmZdbSGEkdEvAE4DJgM3CjpAklvrjQyMzPrSA2PcUTEPcC/AMcBbwS+K+luSe+ut76k0fko5VZJd0o6KZdvLel6SYskXSRpZC4flecX5eVTWt47MzNru0bHOF4n6RRgAbAP8I6IeHWePqWHzVYB+0TEjsBOwP6SdgdOBk6JiG2Bx4GZef2ZwOO5/JS8npmZdZhGjzj+E7gJ2DEiPhoRNwFExEOko5CXiOTpPLte/gtSsrkkl58DvDNPH5Tnycv3laTGd8XMzPpDo7eOfRvwXES8ACBpHWB0RDwbEef1tJGkdYEbgW2BU4F7gZURsSavsgSYmKcnAosBImKNpCeATYDlNXXOAmYBsMXkBsPvTKNmTGXVisUDHYaZWSmNHnFcBaxfmB+Ty3oVES9ExE7AJGBXYPuyAdapc05E7BIRu7Dxpq1WN6BWrVhMcG+3PzOzTtdo4hhd6HYiT49p9EEiYiVwDbAHME5S15HOJGBpnl5KOmuLvHwj4LFGH8PMzPpHo4njGUnTumYkvR54rrcNJL1c0rg8vT7wZtLg+jXAwXm1I4BL8/TcPE9e/tuIiAbjMzOzftLoGMexwE8lPQQI2AJ4bx/bTADOyeMc6wAXR8Rlku4CLpT0ZeBm4My8/pnAeZIWASuAQ0vtiZmZ9YuGEkdE/EnS9sDUXLQwIv7axza3ATvXKb+PNN5RW/488J5G4rGBVW9Qf9T4yay6YuEARWRm/anRIw6A6cCUvM00SUTEuZVEZR2ta1C/SCu2GaBozKy/NZQ4JJ0HbAPcAryQiwNw4jAzG2YaPeLYBdjBg9VmZtboWVV3kAbEzcxsmGv0iGNT4C5JN5CuQQVARBxYSVRmZtaxGk0cJ1YZhJmZDR6Nno77O0lbAdtFxFWSxgDrVhuamZl1okbPqjqGdGHB8aSzqyYCpwP7Vhea9bdRjGTV9O5XkvHvM8ysVqNdVR8l/Wjvekg3dZK0WWVR2YBYxWr/PsPM+tToWVWrImJ110y+CKFPzTUzG4YaPeL4naTPA+vne41/BPiv6sKyTlGv+8rMhrdGE8ds0q1dbwf+Cbgc+GFVQVnnqNt9hbuvzIazRs+qehE4I/+Zmdkw1uhZVfdTZ0wjIl7Z9ojMzKyjlblWVZfRpMufj29/OGZm1ukaOqsqIh4r/C2NiG8Db6s2NDMz60SNdlVNK8yuQzoCKXMvj2Gv3s2PzMwGo0Y//P+jML0GeAA4pO3RDGF1b37ks5PMbBBq9KyqN1UdiJmZDQ6NdlV9qrflEfGt9oRjZmadrsxZVdOBuXn+HcANwD1VBGVmZp2r0cQxCZgWEU8BSDoR+P8RcXhVgZmZWWdq9CKHmwOrC/Orc5mZmQ0zjR5xnAvcIOkXef6dwDmVRGRmZh2t0bOqviLpV8AbctFREXFzdWGZmVmnKvMjvjHAkxFxlqSXS9o6Iu6vKrDBzD/2M7OhrNHTcU8gnVk1FTgLWA/4MbBndaENXv6xn5kNZY0Ojr8LOBB4BiAiHgLGVhWUmZl1rkYTx+qICPKl1SVtUF1IZmbWyRpNHBdL+gEwTtIxwFX4pk5mZsNSn2MckgRcBGwPPEka5/hiRFxZcWxmZtaB+kwcERGSLo+I1wJOFmZmw1yjXVU3SZpeaSRmZjYoNJo4dgOuk3SvpNsk3S7ptt42kDRZ0jWS7pJ0p6RP5PLxkq6UdE/+v3Eul6TvSlqUH2Nab/WbmdnA6LWrStIrIuLPwIwm6l4DfDoibpI0FrhR0pXAkcDVEfE1SbOB2cBxwFuB7fLfbsBp+b+ZmXWQvo44fgkQEQ8C34qIB4t/vW0YEQ9HxE15+ilgATAROIi117k6h3TdK3L5uZFcRzqDa0IT+2RmZhXqK3GoMP3KZh9E0hRgZ+B6YPOIeDgveoS1V9mdCBSv07Ekl9XWNUvSfEnzeXx5syGZmVmT+jqrKnqYbpikDYGfAcdGxJPp7N5cYTpjq1S9ETEHmAOgHaY1FZMNnJ6u4zVq/GRWXbFwACIys7L6Shw7SnqSdOSxfp4mz0dEvKy3jSWtR0oa50fEz3Pxo5ImRMTDuStqWS5fCkwubD4pl9kQUu86XgBa4Wt5mQ0WvXZVRcS6EfGyiBgbESPydNd8X0lDwJnAgpp7ks8FjsjTRwCXFso/mM+u2h14otClZWZmHaLMZdXL2hP4AHC7pFty2eeBr5EuYTITeBA4JC+7HDgAWAQ8CxxVYWxmZtakyhJHRPye7oPrRfvWWT+Aj1YVj5mZtUejPwA0MzMDqu2qsmFkFCNZNX1M9zKfKWU2JDlxWFusYvVL73roM6XMhiR3VZmZWSlOHGZmVooTh5mZleLEYWZmpThxmJlZKU4cZmZWihOHmZmV4sRhZmalOHGYmVkpThxmZlaKE4eZmZXixGFmZqX4Ioc2qNS7Z7mvwmvWv5w4bFCpd89yX4XXrH+5q8rMzErxEUeL6nWdWFLv5k5mNvg5cbSobtcJ7jqBHm7u5OfGbNBz4uiBB2HNzOpz4uiBB2HNzOrz4LiZmZXiIw7rCPUG0t01aNaZnDisI9QdSHfXoFlHcleVmZmV4iMOG5J8VpxZdZw4bEjyWXFm1XFXlZmZleLEYWZmpThxmJlZKU4cZmZWihOHmZmVUlnikPQjScsk3VEoGy/pSkn35P8b53JJ+q6kRZJukzStqrhs8BjFSJg+pvufmQ24Ko84zgb2rymbDVwdEdsBV+d5gLcC2+W/WcBpFcZlg0TXr8mLf2Y28Cr7HUdE/LekKTXFBwF75+lzgHnAcbn83IgI4DpJ4yRNiIiHq4rPhh9fD8usPfr7B4CbF5LBI8DmeXoiUPyZ75Jc9pLEIWkW6agEtphcWaA29Ph6WGbtMWC/HI+IkBRNbDcHmAOgHaaV3t6GHt+i1qx/9XfieLSrC0rSBGBZLl8KFA8fJuUysz75FrVm/au/T8edCxyRp48ALi2UfzCfXbU78ITHN8zMOlNlRxySfkIaCN9U0hLgBOBrwMWSZgIPAofk1S8HDgAWAc8CR1UVVyvcJWJmVu1ZVe/rYdG+ddYN4KNVxdIu7hIxM/Mvx83MrCTfj8OGNf+2w6w8Jw4b1vzbDrPy3FVlZmalOHGYmVkpThxmZlaKxzjManjA3Kx3ThxmNTxgbtY7d1WZmVkpThxmZlaKE4eZmZXiMQ5g1IyprFqxuO8VzczMiQNg1YrFvnihmVmDnDjM2qino1efzmtDiROHWQPq/bZjtNbn+XiuW9kqeMnRK/h0Xhtahl3i8HiGNaPubztiG3dx2rA07BKHxzPMzFrj03HNzKwUJw4zMytl2HVVmQ0EXzjRhhInDrN+0OiFE+udvOEEY53GicOsg9Q9ecOn8lqH8RiHmZmV4iMOswFSb9zDbDBw4jAbIHXHPfybIhsE3FVlZmal+IjDbBDy2Vc2kJw4zDpcvbGQehdT9NlX1l+cOMw6nMdCrNM4cZgNEf51uvUXJw6zIaLekcnoFa+GBu4j4gRjZThxmA1hDd9HxOMjVoJPxzUzs1I6KnFI2l/SQkmLJM0e6HjMzOylOqarStK6wKnAm4ElwJ8kzY2IuwY2MrOhr9F7qtcbC+npdsweNxm6OiZxALsCiyLiPgBJFwIHAU4cZhVrdCyk3mB7vd+U9LRuK8molW2dxNpLETHQMQAg6WBg/4g4Os9/ANgtIj5Ws94sYFaenQr09mrYFFheQbhV1111/YO17qrrd+z9X3fV9Q/Wuquuf2pEjG1240464mhIRMwB5jSyrqT5EbFLFXFUWXfV9Q/Wuquu37H3f91V1z9Y6666fknzW9m+kwbHlwKTC/OTcpmZmXWQTkocfwK2k7S1pJHAocDcAY7JzMxqdExXVUSskfQx4ApgXeBHEXFni9U21KXVgXVXXf9grbvq+h17/9dddf2Dte6q62+p7o4ZHDczs8Ghk7qqzMxsEHDiMDOzUoZs4mjn5UskTZZ0jaS7JN0p6RO5fLykKyXdk/9v3MJjrCvpZkmX5fmtJV2f478onzDQbN3jJF0i6W5JCyTt0a7YJX0yPyd3SPqJpNGtxC7pR5KWSbqjUFY3ViXfzY9zm6RpTdT9jfy83CbpF5LGFZYdn+teKGlG2boLyz4tKSRt2q64c/nHc+x3Svp6M3H38rzsJOk6SbdImi9p1yZjL/XeKVN/L3W3q03r1l9Y3nS79lZ3q+3ay/PSljYFICKG3B9pcP1e4JXASOBWYIcW6psATMvTY4H/BXYAvg7MzuWzgZNbeIxPARcAl+X5i4FD8/TpwIdbqPsc4Og8PRIY147YgYnA/cD6hZiPbCV24B+AacAdhbK6sQIHAL8CBOwOXN9E3W8BRuTpkwt175BfN6OArfPrad0ydefyyaQTPh4ENm1j3G8CrgJG5fnNmom7l/p/A7y1EO+8JmMv9d4pU38vdberTevW34527SX2ltu1l7rb0qYRMWQTxx7AFYX544Hj21j/paRrai0EJhQaa2GT9U0Crgb2AS7LDbi88OLvtj8l696I9OGumvKWYycljsXAeNIZepcBM1qNHZhC9w+xurECPwDeV2+9RuuuWfYu4Px6r5n8IbFH2bqBS4AdgQdY+wHTctyk5LxfnfVKx91D/VcA783T7wMuaDb2msfp9b3TSv1ddbezTXuqv13tWud5aWu71tTdtjYdql1VXR9oXZbkspZJmgLsDFwPbB4RD+dFjwCbN1ntt4HPAS/m+U2AlRGxJs+3Ev/WwF+As5S6wn4oaQPaEHtELAW+CfwZeBh4ArixjbF36SnWdrfzP5K+ebWlbkkHAUsj4taaRe2I+1XAG5S6BH8naXob6wY4FviGpMWkNj6+1fobfO80VX9N3UVtadNi/e1u15rY29quNXUfS5vadKgmjkpI2hD4GXBsRDxZXBYpVZc+t1nS24FlEXFje6J8iRGkbojTImJn4BlS18DftBD7xqQLUW4NbAlsAOzfasC9aTbWvkj6ArAGOL9N9Y0BPg98sR311TGCdKS3O/BZ4GJJamP9HwY+GRGTgU8CZ7ZSWRXvnb7qblebFuvP9bWtXevE3rZ2rVN329p0qCaOtl++RNJ6pEY4PyJ+nosflTQhL58ALGui6j2BAyU9AFxI6q76DjBOUtcPNFuJfwmwJCK6voldQkok7Yh9P+D+iPhLRPwV+Hnen3bF3qWnWNvSzpKOBN4OHJY/xNpR9zakhHprbttJwE2StmhT3EuAn0dyA+loddM21Q1wBKk9AX5Kuno1zdRf8r1Tqv4e6m5bm9apv23t2kPsbWnXHupuW5sO1cTR1suX5Ix/JrAgIr5VWDSX1Bjk/5eWrTsijo+ISRExJcf524g4DLgGOLiVunP9jwCLJU3NRfuSLlXfcuykLqrdJY3Jz1FX3W2JvaCnWOcCH8xnhewOPFHo/miIpP1J3YQHRsSzNY95qKRRkrYGtgNuaLTeiLg9IjaLiCm5bZeQBiwfaUfcwC9JA6lIehXppIflrcZd8BDwxjy9D3BPni4VexPvnYbr76nudrVpvfrb1a69PC+/pMV27aXutrQp+YkYkn+kMwX+l3T2wRdarGsv0qH0bcAt+e8A0ljE1bkBrgLGt/g4e7P2rKpX5hfGItK3g1Et1LsTMD/H/0tg43bFDpwE3A3cAZxHOuuj6diBn5DGS/5KelPO7ClW0kkEp+Y2vh3YpYm6F5H6d7va9fTC+l/IdS8kn41Spu6a5Q+wdhC1HXGPBH6cn/ebgH2aibuX+vcijVfdSuoff32TsZd675Spv5e629WmdetvR7v2EnvL7dpL3W1p04jwJUfMzKycodpVZWZmFXHiMDOzUpw4zMysFCcOMzMrxYnDzMxK6Zg7AJp1Kkldp44CbAG8QLqMC8CuEbF6QAIzGyA+HdesBEknAk9HxDcbWHdErL1ml9mQ4a4qsyZIOlvSwYX5p/P/vSX9j6S5wF15fp7W3g/l/K5rD0n6mtI9E26T1GciMusU7qoya79pwN9FxP2S9iZdnfQ1pEs+XAvsKWkB6ZLf20dEqHCzIbNO5yMOs/a7ISLur5lfEhEvki7/MIV0CfrngTMlvRt49iW1mHUoJw6z5qwhv38krUO6xlCXZ2rWXVWYfoF0k6s1pKuTXkK6iuuvqwvVrL2cOMya8wDw+jx9ILBemY3zvRI2iojLSfdG2LGt0ZlVyGMcZs05A7hU0q2ko4Xao4y+jM3bjyZdnfRTbY7PrDI+HdfMzEpxV5WZmZXixGFmZqU4cZiZWSlOHGZmVooTh5mZleLEYWZmpThxmJlZKf8HlZsoUg/anqYAAAAASUVORK5CYII=\n",
      "text/plain": [
       "<Figure size 432x288 with 1 Axes>"
      ]
     },
     "metadata": {
      "needs_background": "light"
     },
     "output_type": "display_data"
    }
   ],
   "source": [
    "ax = df[df[\"victory_status\"] == \"mate\"][\"turns\"].plot(kind=\"hist\", bins=50, color=project_pallet[\"turns\"], edgecolor='black')\n",
    "ax.set_facecolor(project_pallet[\"background_2\"])\n",
    "ax.set_xticks(np.arange(0, 300, 20))\n",
    "plt.xlabel(\"Turns\")\n",
    "plt.title(\"Number of Turns in Games Ending in Checkmate\")\n",
    "plt.savefig('../../images/number_of_turns_mate.png')"
   ]
  },
  {
   "cell_type": "markdown",
   "metadata": {},
   "source": [
    "&nbsp;&nbsp;&nbsp;&nbsp; When looking solely at the games ending with one player checkmating the other, most games follow the same pattern that can be seen when comparing all games but with noticable spikes at around 15, 40, 55, 60, 75, and 90 turns. This could be caused by multiple factors but are most likely because either the endgame had been reached or because the position had gotten too complex and resulted in a complicated checkmate."
   ]
  },
  {
   "cell_type": "markdown",
   "id": "orange-virgin",
   "metadata": {},
   "source": [
    "# Research Question:\n",
    "**What openings lead to more complex games, which ones are easily refuted?** <br>\n",
    "To perform this analysis, a few vairables have to be known:\n",
    "1. The most common openings and what they result in (white or black winning, or a draw)\n",
    "2.  a) Which openings result in checkmate or the opponent resigning, compared to a draw or running out of time <br>\n",
    "    b) Which openings take lead to shorter/longer games <br>\n",
    "    \n",
    "&nbsp;&nbsp;&nbsp;&nbsp; Instead of relying on the opening names in from lichess's database, we instead chose to use the opening codes from the Encyclopaedia of Chess Openings (ECO). These are more reliable when analysing openings because openings can often lead to similar or even the same positions, but through a different move order and therefor are named differently. ECO codes solve this by describing the 'state' of the opening and organizing those states into 5 different volumes: <br>\n",
    "\n",
    "\n",
    "_Volume A_: <br>\n",
    "&nbsp;&nbsp;&nbsp;&nbsp; Flank Openings - openings played outside the d and e files <br>\n",
    "_Volume B_: <br>\n",
    "&nbsp;&nbsp;&nbsp;&nbsp; Semi-Open Games (Except the French) - openings that start with 1. e4 and where black immediately breaks symetry by playing something other than e5<br>\n",
    "_Volume C_: <br>\n",
    "&nbsp;&nbsp;&nbsp;&nbsp; Open Games (Including the French) - openings that start with 1. e4 e5 (both kings' pawns move 2 ranks)<br>\n",
    "_Volume D_: <br>\n",
    "&nbsp;&nbsp;&nbsp;&nbsp; Closed and Semi-Closed Games - openings that start with 1. d4 (black playing d5 results in a Closed game, anything else is a Semi-Closed)<br>\n",
    "_Volume E_: <br>\n",
    "&nbsp;&nbsp;&nbsp;&nbsp; Indian Defence - games started by 1. d4 Nf6<br>"
   ]
  },
  {
   "cell_type": "markdown",
   "id": "intermediate-myrtle",
   "metadata": {},
   "source": [
    "# Setup:"
   ]
  },
  {
   "cell_type": "code",
<<<<<<< HEAD
   "execution_count": 66,
   "id": "through-cyprus",
=======
   "execution_count": 4,
>>>>>>> cc8b1c3 (Reformated eda)
   "metadata": {},
   "outputs": [],
   "source": [
    "# df needs to be reloaded + cleaned to keep outoftime games\n",
    "df2 = functions.load(\"../../data/raw/Chess-Game-Dataset.csv\")\n",
    "df2 = df2.drop(columns=[\"id\", \"rated\", \"white_id\", \"black_id\", \"opening_ply\"]).dropna().reset_index(drop=True)\n",
    "\n",
    "#instance helper class\n",
    "utility = functions.UtilityClass(df=df2)\n",
    "utility.setup_win_count_per_eco()\n",
    "utility.setup_status_per_eco()\n",
    "\n",
    "#create dicts\n",
    "white_wins = utility.create_subdict_based_on_key(d=utility.win_count_dict, key=\"white\")\n",
    "black_wins = utility.create_subdict_based_on_key(d=utility.win_count_dict, key=\"black\")\n",
    "draw_occurences = utility.create_subdict_based_on_key(d=utility.win_count_dict, key=\"draw\")\n",
    "\n",
    "draw_dict = utility.create_subdict_based_on_key(d=utility.status_dict, key=\"draw\")\n",
    "mate_dict = utility.create_subdict_based_on_key(d=utility.status_dict, key=\"mate\")\n",
    "outoftime_dict = utility.create_subdict_based_on_key(d=utility.status_dict, key=\"outoftime\")\n",
    "resign_dict = utility.create_subdict_based_on_key(d=utility.status_dict, key=\"resign\")\n",
    "\n",
    "#sieve dicts\n",
    "sieved_win_count = utility.seive_2d_dict_based_on_total(d=utility.win_count_dict, threshold=450)\n",
    "sieved_white_win_count = utility.sieve_1d_dict_based_on_total(d=white_wins, threshold=225)\n",
    "sieved_black_win_count = utility.sieve_1d_dict_based_on_total(d=black_wins, threshold=180)\n",
    "sieved_draw_occurences_count = utility.sieve_1d_dict_based_on_total(d=draw_occurences, threshold=20)\n",
    "\n",
    "sieved_status_dict = utility.seive_2d_dict_based_on_total(d=utility.status_dict, threshold=300)\n",
    "sieved_draw_dict = utility.sieve_1d_dict_based_on_total(d=draw_dict, threshold=20)\n",
    "sieved_mate_dict = utility.sieve_1d_dict_based_on_total(d=mate_dict, threshold=168)\n",
    "sieved_outoftime_dict = utility.sieve_1d_dict_based_on_total(d=outoftime_dict, threshold=40)\n",
    "sieved_resign_dict = utility.sieve_1d_dict_based_on_total(d=resign_dict, threshold=300)"
   ]
  },
  {
   "cell_type": "markdown",
   "metadata": {},
   "source": [
    "# 1."
   ]
  },
  {
   "cell_type": "code",
<<<<<<< HEAD
   "execution_count": 80,
   "id": "noted-juice",
=======
   "execution_count": 5,
>>>>>>> cc8b1c3 (Reformated eda)
   "metadata": {},
   "outputs": [
    {
     "data": {
      "image/png": "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\n",
      "text/plain": [
       "<Figure size 432x288 with 1 Axes>"
      ]
     },
     "metadata": {
      "needs_background": "light"
     },
     "output_type": "display_data"
    }
   ],
   "source": [
    "# take sieved_win_count and separate it into [eco codes], [win count dict] + sort it alphabetically \n",
    "totals = utility.win_count_totals_dict\n",
    "sorted_sieved_win_count = {k: v for k, v in sorted(sieved_win_count.items(), key=lambda item: totals[item[0]], reverse=True)}\n",
    "x, y = zip(*sorted_sieved_win_count.items())\n",
    "\n",
    "# turn win count dict into 2d list for plotting [[white], [black], [draw]]\n",
    "# this has to be done because sieved_win_count is a 2d dict\n",
    "temp = [[], [], []]\n",
    "for d in y:\n",
    "    temp[0].append(d[\"white\"])\n",
    "    temp[1].append(d[\"black\"])\n",
    "    temp[2].append(d[\"draw\"])\n",
    "y = temp\n",
    "\n",
    "#setup and plot\n",
    "max_ytick = max(*y[0], *y[1], *y[2]) + max(*y[0], *y[1], *y[2]) // 10\n",
    "ystep = 50\n",
    "index = np.arange(len(x))\n",
    "fig = plt.figure()\n",
    "ax = fig.add_axes([0, 0, 1, 1])\n",
    "ax.bar(index + 0.00, y[0], color=project_pallet[\"white\"], width=0.25, edgecolor=project_pallet[\"black\"])\n",
    "ax.bar(index + 0.25, y[1], color=project_pallet[\"black\"], width=0.25, edgecolor=project_pallet[\"white\"])\n",
    "ax.bar(index + 0.50, y[2], color=project_pallet[\"draw\"], width=0.25, edgecolor=project_pallet[\"white\"])\n",
    "ax.legend(title=\"Results\", labels=[\"White wins\", \"Black wins\", \"Draw\"])\n",
    "ax.set_xticks(index)\n",
    "ax.set_xticklabels(x)\n",
    "ax.set_yticks(np.arange(0, max_ytick, ystep))\n",
    "ax.set_facecolor(project_pallet[\"background_1\"])\n",
    "\n",
    "plt.xlabel(\"ECO Code\")\n",
    "plt.ylabel(\"Number of Games\")\n",
    "plt.title(\"Most Commonly Played ECO Codes\")\n",
    "plt.savefig(\"../../images/commonly_played_eco_codes_vs_result.png\")"
   ]
  },
  {
   "cell_type": "markdown",
   "id": "banner-designation",
   "metadata": {},
   "source": [
    "## Analysis:\n",
    "\n",
    "<p> &nbsp;&nbsp;&nbsp;&nbsp; The most commonly played ECO codes reveal a few expected behaviours. The code 'A00' refers to Uncommon Openings (1. g4, a3, h3, etc.), and is categorized as flank openings. This shows that flank openings by nature, are weak openings. To expand on this discovery, flank openings allow for control of the center of the board to be lost on turn 1 which in turn explains why black has an advantage. Another observation can be made from the visualization: both 'C41' and 'B00' have close to double the wins for white than black. Both opening codes start with 1. e4 showing that the king's pawn is inherently one of the strongest pieces when talking from a positional perspective.</p>"
   ]
  },
  {
   "cell_type": "code",
<<<<<<< HEAD
   "execution_count": 76,
   "id": "detailed-ecology",
=======
   "execution_count": 6,
>>>>>>> cc8b1c3 (Reformated eda)
   "metadata": {},
   "outputs": [
    {
     "data": {
      "image/png": "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\n",
      "text/plain": [
       "<Figure size 432x288 with 1 Axes>"
      ]
     },
     "metadata": {
      "needs_background": "light"
     },
     "output_type": "display_data"
    }
   ],
   "source": [
    "# unpack + sort sieved_white_win_count\n",
    "x, y = zip(*sorted(sieved_white_win_count.items(), key=lambda item: item[1], reverse=True))\n",
    "\n",
    "#setup + plot\n",
    "max_ytick = max(y) + max(y) // 10\n",
    "ystep = 10\n",
    "fig = plt.figure()\n",
    "ax = fig.add_axes([0, 0, 1, 1])\n",
    "ax.bar(x=x, height=y, color=project_pallet[\"white\"],edgecolor=project_pallet[\"black\"])\n",
    "ax.set_facecolor(project_pallet[\"background_1\"])\n",
    "\n",
    "plt.xlabel(\"ECO Code\")\n",
    "plt.ylabel(\"Number of Games\")\n",
    "plt.title(\"ECO Codes Most Commonly Won by White\")\n",
    "plt.savefig(\"../../images/white_won_eco_codes.png\")"
   ]
  },
  {
   "cell_type": "markdown",
   "id": "cooperative-location",
   "metadata": {},
   "source": [
    "<p> &nbsp;&nbsp;&nbsp;&nbsp; When observing only the ECO codes that lead to games being won by white we can see that half of the codes present belong to volume 'C': 1. e4 e5. This reinforces the concept that the king's pawn is inherently strong positionally, and regardless of how the game unfolds from there, white has - to some degree - a small advantage. Interestingly, both 'C40' and 'C50' both share a common pattern 1. e4 e5 2. Nf3 Nc6 and both are at the end of the most common codes ending in wins. This can be explained by the fact that white's pawn on e4 is unguarded and can be won if white doesn't respond precisely to black's attack. </p>"
   ]
  },
  {
   "cell_type": "code",
<<<<<<< HEAD
   "execution_count": 74,
   "id": "patient-estonia",
=======
   "execution_count": 7,
>>>>>>> cc8b1c3 (Reformated eda)
   "metadata": {},
   "outputs": [
    {
     "data": {
      "image/png": "iVBORw0KGgoAAAANSUhEUgAAAeYAAAFdCAYAAADWns55AAAAOXRFWHRTb2Z0d2FyZQBNYXRwbG90bGliIHZlcnNpb24zLjMuNCwgaHR0cHM6Ly9tYXRwbG90bGliLm9yZy8QVMy6AAAACXBIWXMAAAsTAAALEwEAmpwYAAAlg0lEQVR4nO3debgkZX238fsLCAgIIwySYdFBwQWjEiQEjRpFfSNqRA0qxggiEX3FhETzGo0aMe5J1LgQDVHjjAuIGJUoSVQQMIkgiwiCIsMWGBEcZBmcCAK/9496jvYcztIznO5Tw7k/19XXqXpq+3V1n/52LV2VqkKSJPXDRvNdgCRJ+hWDWZKkHjGYJUnqEYNZkqQeMZglSeoRg1mSpB4xmLVgJLkiyVPmuw7NLslLkvznfNcxrCRLk1SSTcawrCcmuXoO5uP/Q08ZzBpK+yf+3yS3DDw+NDB8SZKPJbkmyeokP0jyliRbtuFJ8v+SXNLm8z9J3plks1mW+7tJTm/z/EmS05I8a9TPd1htvdyWZPGk9u+0D+qld3P+lWS3WcaZcd0vJEn+McmHB/rvleRn07TtOz9VzizJUUl+MfB/9v0kvz/fdWl8DGati9+rqq0GHq8CSLIt8C3g3sBjquo+wFOBRcCD2rQfAA4HDgbuA+wPPBk4frqFJTkQ+BywHNgZ2AH4K+D35v6p3S2XAy+c6EnyCGCLcSx4yHW/kJwOPGGgf2/gf4DHT2oDOGdcRa2Hz078nwF/CnwqyQ7zXJPGxGDWXHg1sBr4w6q6AqCqrqqqI6vq/CS7A68EXlRV36qq26vqQuD3gacl2W/yDJMEeC/w1qr6aFXdVFV3VtVpVfWyNs5GSd6Y5Mok1yVZnmSbgXm8uA27PskbJs1/oySvS3JpG358CzmSbJ7kU639xiRnzfKh+Em6LxwTDqH7MjG4vG1afT9pNb0xyUZt2G5tT8BNSVYl+WxrP71N/t225fSCdV33bT6Pbc/hpvb3sQN1nZrkbUn+uy3jX5Nsl+TTSW5u4y8dGL+SvLLt+Vid5K1JHtSmv7mtx00Hxn9ZkhVJfprkxCQ7TprXK9q8bkxydHvd19La3zOp7cQkfzbF+jgdeNjAHozHA8cBW05q+1ZV/SLJw9o6uDHJhRnYG5PkE23ZX2nP9cwks33ZeWmSH7W9F3/e5vNrSdYk2W5g3nu198K9ZpkfVfUfdK/xlMseeB+vTnJRkudMGv6yttU9MXyvKebxsCSXJ3nh5GGaB1Xlw8esD+AK4CnTDDsDeMsM074CuHKaYacB75yi/aFAAbvOMN+XAiuABwJbAf8CfLIN2wO4hW7raTO6kL994jkAR7a6d27D/xE4tg17OfCvdFu9GwOPBraeab0AFwMPa+NfDTyg1b+0jbcc+BLd3oKlwA+Bw9qwY4E30H1R3hx43MD8C9hthnUw27rfFrgBeDGwCd2W/Q3Adm34qW0dPgjYBrio1faUNv5y4J8n1fMlYGvg4cCtwMntNZiY/pA27n7AKmCvto4/CJw+aV5fptu6vz/wE+BpbdhLgP9s3fsAPwI2av2LgTXADtM858uB57TuL7c6Pj2p7a+Ae7Xn/pfApm281cBD2nifAK5vy9+kzeO4aZa5tD2fY4EtgUe05zPxfjsJ+L8D478P+OA08zoK+FTrDvAM4EZgUWt7InD1wPjPA3Zs758XAD8DlgwMWwn8ZpvXbsADJr1396Lbq/DM+f6c8dE93GLWuvhi27KYeLystW8HXDPDdItnGH5NGz7ZdgPDp/Mi4L1VdVlV3QK8Hjgo3Qk4BwJfrqrTq+pW4E3AnQPTvgJ4Q1Vd3YYfBRzYpv1FW/5uVXVHVZ1TVTfPUAf8aqv5qcD36T4MAUiyMXAQ8PqqWl3dlu176MKStrwHADtW1c+ral1Oeppt3T8DuKSqPlndnopjgR+w9uGAf66qS6vqJuDfgEur6utVdTvdoYTfmDTPv6mqm6vb6/E94KvtNZiYfmL8FwEfr6pz2zp+PfCYrH3c/V1VdWNV/Q/wDWDPyU+gqr4N3ER36AO6dXlqVV07zXM+DXhC2yOxD92Xl28OtP12G2dfui9076qq26rqFLrQHtxq/EJVfbuti09PVd8kb6mqn1XVBcA/D8xrGfCH8Mv3wwvp3jPTeX6SG+m+XJ4IvKOqbpxqxKr6XFX9qLo9Sp8FLmnPG+CP6F6vs6qzoqquHJj88W3+B1fVl2d5bhoTg1nr4tlVtWjg8U+t/XpgyQzTrZph+JI2fLLrB4ZPZ0dg8EPmSrotmx3asKsmBlTVzwbmCV0QfmHiSwZdmN7Rpv0k8B/AcW235N8Mscvxk8Af0G3pLZ80bDHd1tnkWndq3a+l25r5dtud+tJZljVotnU/eR1NXjbAYMD97xT9W02aftjx11p2+/J0/aRl/3ige80Uy5rwy2Brf2cKtYnjzI8ALquqNcB/DrTdGziz1XdVVQ1+YZu8boatb8JVA91XtmVAt5dhjyS70n15u6l94ZjO8e1/bEu6vRkHJ3n5VCMmOTjJeQPv5V/nV192dwEunWE5rwD+u6pOneV5aYwMZs2FrwPPmThmOoVTgF2S7DPYmGQXuq2Wk6eY5mK6D7mZzkb9EV3ATrg/3e7qa+m2IncZWNYW/GornDbv/Sd90di8qlZW1S+q6i1VtQfwWOCZrH0M+S7aVsjlwNPpdqkPWsWvtooHa13Zpv1xVb2sqnak243+D5nlTOwBs637yetorWWP2FrLTneW+HbruexPAQckeRTdIYMvzjDu6cCj6PYWfLO1XUj3fngGcFZV/bzVt8ukdXd3180uA933b8ugLe94ui8VL2bmLxZraXtY/o0pTnpM8gDgn4BX0R2eWES3F2PiWP1VzHwS4CuA+yd537D1aPQMZs2F99Idc1zWPihIslOS9yZ5ZFX9EPgI8Okk+ybZOMnDgc8DX6+qr0+eYVUV3YlNb0pyaJKt052w9bgkx7TRjgX+LMmuSbYC3kF3NuvtwAnAM9v4mwJ/zdrv948Abx+od/skB7TuJyV5RNvleDNdqA5uVU3nMGC/tnU++FzuoPtQfnuS+7RlvpoubEjyvCQ7t9FvoDtWObG8a+mO305nxnVPd2zzwUn+IMkm6U4g24Nul+2oHQscmmTPdD+LewdwZguadVJVVwNn0QXa56vqf2cYdwXdejuSFszt/XRma5s4qe5Muq3g16b7CdUT6cLvuHWtb8CbkmzR3t+HAp8dGLacbo/Ks1iHYG7vjafRfbmYbEu698tP2riH0m0xT/go8OdJHp3ObhPvk2Z1m/cTkrxr2Jo0Wgaz1sW/Zu3fMX8BoKp+Srdl+QvgzCSr6baCb6I7uQa6b/QfpQujW4B/pzvxaNot4qo6ge5klpfSbXlcC7yNbrcgwMfpPuBOp9ta/Tnwx23aC4EjgM/QbT3fQHdS1oT30x1b+2qr9wzgt9qwX6ML9pvpdnGfxhAfpO047dnTDP5jupNyLqPbrfqZVj90J+acmWTieOKRVXVZG3YUXejemOT5UyxzxnVfVdfTbfG/hm438mvpTvKZ6vDBnGpfuN5E9wXsGrott4PuxiyX0e2KHibUTge2B/5roO2bwP3aMKrqNrog3p9ur8Y/0B1r/cHdqPE0uvf8ycDfVdVXJwZU1X/RfeE6d9Jx3qm8YOL/jO4LyX8Bb5k8UlVdRHe+wrfo/j8ewcBzrqrPAW+ne7+tptvTsO2kedxIt3t9/yRvXYfnqhFJ90VSkvotyRPovtg9oDbQD64kpwCfqaqPznct6q+RXz5Oku6udvLdkcBHN+BQ/k26nyYdMN+1qN/clS2p15I8jO53vEuAv5/XYtZTkmV0J+r9aVWtnu961G/uypYkqUfcYpYkqUcMZkmSemSDPvkrW2xRLFo032VIkrRurrlmVVVtP9WgDTqYWbQIXj7lVeokSeqvo46a9rfs7sqWJKlHDGZJknrEYJYkqUcMZkmSesRgliSpRwxmSZJ6xGCWJKlHDGZJknrEYJYkqUcMZkmSesRgliSpRwxmSZJ6ZMO+icUcu/yII1i6ePFYl3nFqlXsevTRY12mJKm/DOYBSxcvJslYl1lVY12eJKnf3JUtSVKPGMySJPWIwSxJUo8YzJIk9YjBLElSjxjMkiT1iMEsSVKPGMySJPWIwSxJUo8YzJIk9YjBLElSjxjMkiT1iMEsSVKPGMySJPWIwSxJUo8YzJIk9YjBLElSjxjMkiT1iMEsSVKPGMySJPWIwSxJUo8YzJIk9YjBLElSjxjMkiT1iMEsSVKPGMySJPWIwSxJUo8YzJIk9chIgznJFUkuSHJekrNb27ZJvpbkkvb3vq09ST6QZEWS85PsNcraJEnqo3FsMT+pqvasqr1b/+uAk6tqd+Dk1g+wP7B7exwOfHgMtUmS1CvzsSv7AGBZ614GPHugfXl1zgAWJVkyD/VJkjRvRh3MBXw1yTlJDm9tO1TVNa37x8AOrXsn4KqBaa9ubWtJcniSs5OczZo1o6pbkqR5scmI5/+4qlqZ5H7A15L8YHBgVVWSWpcZVtUxwDEA2XHHdZpWkqS+G+kWc1WtbH+vA74A7ANcO7GLuv29ro2+EthlYPKdW5skSQvGyII5yZZJ7jPRDfwf4HvAicAhbbRDgC+17hOBg9vZ2fsCNw3s8pYkaUEY5a7sHYAvJJlYzmeq6t+TnAUcn+Qw4Erg+W38k4CnAyuANcChI6xNkqReGlkwV9VlwKOmaL8eePIU7QUcMap6JEnaEHjlL0mSesRgliSpRwxmSZJ6xGCWJKlHDGZJknrEYJYkqUcMZkmSesRgliSpRwxmSZJ6xGCWJKlHDGZJknrEYJYkqUcMZkmSesRgliSpRwxmSZJ6xGCWJKlHDGZJknrEYJYkqUcMZkmSesRgliSpRwxmSZJ6xGCWJKlHDGZJknrEYJYkqUcMZkmSesRgliSpRwxmSZJ6xGCWJKlHDGZJknrEYJYkqUcMZkmSesRgliSpRwxmSZJ6xGCWJKlHDGZJknrEYJYkqUcMZkmSesRgliSpRwxmSZJ6ZOTBnGTjJN9J8uXWv2uSM5OsSPLZJJu29s1a/4o2fOmoa5MkqW/GscV8JPD9gf53A++rqt2AG4DDWvthwA2t/X1tPEmSFpSRBnOSnYFnAB9t/QH2A05ooywDnt26D2j9tOFPbuNLkrRgjHqL+e+B1wJ3tv7tgBur6vbWfzWwU+veCbgKoA2/qY2/liSHJzk7ydmsWTPC0iVJGr+RBXOSZwLXVdU5cznfqjqmqvauqr3ZYou5nLUkSfNukxHO+7eBZyV5OrA5sDXwfmBRkk3aVvHOwMo2/kpgF+DqJJsA2wDXj7A+SZJ6Z2RbzFX1+qrauaqWAgcBp1TVi4BvAAe20Q4BvtS6T2z9tOGnVFWNqj5JkvpoPn7H/BfAq5OsoDuG/LHW/jFgu9b+auB181CbJEnzap12ZSe5L7BLVZ2/LtNV1anAqa37MmCfKcb5OfC8dZmvJEn3NLMGc5JTgWe1cc8BrkvyX1X16hHXtuBdfsQRLF28eKzLvGLVKnY9+uixLlOS9CvDbDFvU1U3J/kjYHlVvTnJOm0xa/0sXbyYcf+U28P6kjS/hjnGvEmSJcDzgS+PuB5Jkha0YYL5r4H/AC6tqrOSPBC4ZLRlSZK0MM26K7uqPgd8bqD/MuD3R1mUJEkL1axbzEkenOTkJN9r/Y9M8sbRlyZJ0sIzzK7sfwJeD/wCoP1U6qBRFiVJ0kI1TDBvUVXfntR2+5RjSpKku2WYYF6V5EFAASQ5ELhmpFVJkrRADfM75iOAY4CHJlkJXA784UirkiRpgRrmrOzLgKck2RLYqKpWj74sSZIWpmEuybkIOBhYSnexEQCq6k9GWZgkSQvRMLuyTwLOAC4A7hxtOZIkLWzDBPPm3rBCkqTxGCaYP5nkZXTXyb51orGqfjqyqtRL83G3K/COV5IWlmGC+Tbgb4E30H4y1f4+cFRFqZ/m425X4B2vJC0swwTza4DdqmrVqIuR1pX3rJZ0TzNMMK8A1oy6EGl9eM9qSfc0wwTzz4DzknyDtY8x+3MpSZLm2DDB/MX2kCRJIzbMlb+WjaMQSZI03JW/dgfeCewBbD7RXlWelS1J0hwb5u5S/wx8mO5Wj08ClgOfGmVRkiQtVMME872r6mQgVXVlVR0FPGO0ZUmStDANc/LXrUk2Ai5J8ipgJbDVaMuSJGlhGmaL+UhgC+BPgEcDLwYOGWVRkiQtVMOclX1W67wFOHS05UiStLBNG8xJHgc8sKqWt/4TgG3b4LdV1SljqE/aoHiJUEl310xbzG8B/nig/yHAS4Atgb8EDGZpEi8RKunumukY89ZVddFA/yVVdU5VnQ7cZ8R1SZK0IM0UzIsGe6rquQO9O4ykGkmSFriZgvkHSe7ye+UkzwQuHl1JkiQtXDMdY/4z4CtJDgTObW2PBh4LPHPUhUmStBBNG8xVtSLJI4EXAQ9vzacDr6iqn4+jOEl3n2eKSxuWGX/HXFW3Ah8fUy2SRsAzxaUNyzBX/pIkSWNiMEuS1CPTBnOSk9vfd4+vHEmSFraZjjEvSfJY4FlJjgPWOkhVVedOPZkkSVpfMwXzXwFvAnYG3jtpWAH7zTTjJJvTncW9WVvOCVX15iS7AscB2wHnAC+uqtuSbAYsp/tJ1vXAC6rqinV+RpIkbcCm3ZVdVSdU1f7A31TVkyY9Zgzl5lZgv6p6FLAn8LQk+wLvBt5XVbsBNwCHtfEPA25o7e9r40mStKDMevJXVb01ybOS/F17DHVxkerc0nrv1R4TW9ontPZlwLNb9wGtnzb8yRn3bzwkSZpnswZzkncCRwIXtceRSd4xzMyTbJzkPOA64GvApcCNVXV7G+VqYKfWvRNwFUAbfhPd7u7J8zw8ydlJzmbNmmHKkCRpgzHjBUaaZwB7VtWdAEmWAd+hu/XjjKrqDmDPJIuALwAPXf9SfznPY4BjALLjjl7FQJJ0jzLs75gXDXRvs64LqaobgW8AjwEWJZn4QrAzsLJ1rwR2AWjDt6E7CUySpAVjmGB+J/CdJJ9oW8vnAG+fbaIk27ctZZLcG3gq8H26gD6wjXYI8KXWfWLrpw0/pbyunyRpgZl1V3ZVHZvkVOA3W9NfVNWPh5j3EmBZko3pvgAcX1VfTnIRcFySt9HtEv9YG/9jwCeTrAB+Chy0bk9FkqQN3zDHmKmqa+i2aIdWVecDvzFF+2XAPlO0/xx43rosQ5KkexqvlS1JUo8YzJIk9ciMwdx+h/yDcRUjSdJCN2Mwt98hX5zk/mOqR5KkBW2Yk7/uC1yY5NvAzyYaq+pZI6tKkqQFaphgftPIq5AkScBwv2M+LckDgN2r6utJtgA2Hn1pkiQtPMPcxOJldHd7+sfWtBPwxRHWJEnSgjXMz6WOAH4buBmgqi4B7jfKoiRJWqiGCeZbq+q2iZ52gwmvYS1J0ggMc/LXaUn+Erh3kqcCrwT+dbRlSbqnuvyII1i6ePFYl3nFqlXsevTRG0Q90jDB/DrgMOAC4OXAScBHR1mUpHuupYsXk2Ssy5zpRnV9q0ca5qzsO9vtHs+k24V9sbdjlCRpNGYN5iTPAD4CXAoE2DXJy6vq30ZdnCQtRO5eX9iG2ZX9HuBJVbUCIMmDgK8ABrMkjYC71xe2Yc7KXj0Rys1lwOoR1SNJ0oI27RZzkue2zrOTnAQcT3eM+XnAWWOoTZKkBWemXdm/N9B9LfA7rfsnwL1HVpEkSQvYtMFcVYeOsxBJkjTcWdm7An8MLB0c39s+SpI094Y5K/uLwMforvZ150irkSRpgRsmmH9eVR8YeSWSJGmoYH5/kjcDXwVunWisqnNHVpUkSQvUMMH8CODFwH78ald2tX5JkjSHhgnm5wEPHLz1oyRJGo1hrvz1PWDRiOuQJEkMt8W8CPhBkrNY+xizP5eSJGmODRPMbx55FZIkCRjufsynjaMQSZI03JW/VtOdhQ2wKXAv4GdVtfUoC5MkaSEaZov5PhPd6W4QegCw7yiLkiRpoRrmrOxfqs4Xgd8dTTmSJC1sw+zKfu5A70bA3sDPR1aRJEkL2DBnZQ/el/l24Aq63dmSJGmODXOM2fsyS9ICdvkRR7B08eKxLvOKVavY9eijx7rMvpg2mJP81QzTVVW9dQT1SJJ6ZunixXTn/o5PVc0+0j3UTFvMP5uibUvgMGA7wGCWJGmOTRvMVfWeie4k9wGOBA4FjgPeM910kiRp/c14jDnJtsCrgRcBy4C9quqGcRQmSdJCNO3vmJP8LXAWsBp4RFUdtS6hnGSXJN9IclGSC5Mc2dq3TfK1JJe0v/dt7UnygSQrkpyfZK+7+dwkSdrgzHSBkdcAOwJvBH6U5Ob2WJ3k5iHmfTvwmqrag+5KYUck2QN4HXByVe0OnNz6AfYHdm+Pw4EPr9czkiRpAzbTMeZ1uirYFNNfA1zTulcn+T6wE91voJ/YRlsGnAr8RWtfXt2peGckWZRkSZuPJEkLwt0K32ElWQr8BnAmsMNA2P4Y2KF17wRcNTDZ1a1NkqQFY+TBnGQr4PPAn1bVWrvA29bxOv1YLcnhSc5OcjZr1sxhpZIkzb+RBnOSe9GF8qer6l9a87VJlrThS4DrWvtKYJeByXdubWupqmOqau+q2pstthhd8ZIkzYORBXO7ReTHgO9X1XsHBp0IHNK6DwG+NNB+cDs7e1/gJo8vS5IWmmFuYrG+fht4MXBBkvNa218C7wKOT3IYcCXw/DbsJODpwApgDd3FTCRJWss9/drdIwvmqvpPYLqLqz55ivELOGJU9UiS7hnu6dfuHstZ2ZIkaTgGsyRJPWIwS5LUIwazJEk9YjBLktQjBrMkST1iMEuS1CMGsyRJPWIwS5LUIwazJEk9YjBLktQjBrMkST1iMEuS1CMGsyRJPWIwS5LUIwazJEk9YjBLktQjBrMkST1iMEuS1CMGsyRJPWIwS5LUIwazJEk9YjBLktQjBrMkST1iMEuS1CMGsyRJPWIwS5LUIwazJEk9YjBLktQjBrMkST1iMEuS1CMGsyRJPWIwS5LUIwazJEk9YjBLktQjBrMkST1iMEuS1CMGsyRJPWIwS5LUIyML5iQfT3Jdku8NtG2b5GtJLml/79vak+QDSVYkOT/JXqOqS5KkPhvlFvMngKdNansdcHJV7Q6c3PoB9gd2b4/DgQ+PsC5JknprZMFcVacDP53UfACwrHUvA5490L68OmcAi5IsGVVtkiT11biPMe9QVde07h8DO7TunYCrBsa7urVJkrSgzNvJX1VVQK3rdEkOT3J2krNZs2YElUmSNH/GHczXTuyibn+va+0rgV0Gxtu5td1FVR1TVXtX1d5sscVIi5UkadzGHcwnAoe07kOALw20H9zOzt4XuGlgl7ckSQvGJqOacZJjgScCi5NcDbwZeBdwfJLDgCuB57fRTwKeDqwA1gCHjqouSZL6bGTBXFUvnGbQk6cYt4AjRlWLJEkbCq/8JUlSjxjMkiT1iMEsSVKPGMySJPWIwSxJUo8YzJIk9YjBLElSjxjMkiT1iMEsSVKPGMySJPWIwSxJUo8YzJIk9YjBLElSjxjMkiT1iMEsSVKPGMySJPWIwSxJUo8YzJIk9YjBLElSjxjMkiT1iMEsSVKPGMySJPWIwSxJUo8YzJIk9YjBLElSjxjMkiT1iMEsSVKPGMySJPWIwSxJUo8YzJIk9YjBLElSjxjMkiT1iMEsSVKPGMySJPWIwSxJUo8YzJIk9YjBLElSjxjMkiT1iMEsSVKP9CqYkzwtycVJViR53XzXI0nSuPUmmJNsDBwN7A/sAbwwyR7zW5UkSePVm2AG9gFWVNVlVXUbcBxwwDzXJEnSWPUpmHcCrhrov7q1SZK0YKSq5rsGAJIcCDytqv6o9b8Y+K2qetWk8Q4HDm+9DwEuHmuhU1sMrJrvIibpW03WM7u+1WQ9s+tbTX2rB/pXU1/qeUBVbT/VgE3GXckMVgK7DPTv3NrWUlXHAMeMq6hhJDm7qvae7zoG9a0m65ld32qyntn1raa+1QP9q6lv9UylT7uyzwJ2T7Jrkk2Bg4AT57kmSZLGqjdbzFV1e5JXAf8BbAx8vKounOeyJEkaq94EM0BVnQScNN91rIde7Vpv+laT9cyubzVZz+z6VlPf6oH+1dS3eu6iNyd/SZKkfh1jliRpwTOYh5Tk2UkqyUMH2g5Jckl7HDLQ/ugkF7RLi34gSea4ll9LclySS5Ock+SkJA+ex3ruSHJekguTfDfJa5JsNDD89W3ZFyf53YH2kV2CdZp1tE+Sb7U6z0/ygoHxd01yZqvls+0ExLmsZ2IdfTfJuUkeOzBsutft7UmuSnLLXNYyUz1J9pzHdTTd+3qi1vOSnDgw/kjrmammNmzrJFcn+dDA+CN7zQaWcZfPohnqGdf//rq8r0dW0/p8FiXZJck3klzUpjtyrupZb1XlY4gH8Fngm8BbWv+2wGXt731b933bsG8D+wIB/g3Yfw7rCPAt4BUDbY8Cfmc+6mnzv2Wg+37A1wfW0x7Ad4HNgF2BS+lO7tu4dT8Q2LSNs8cY1tHurX9H4BpgUes/HjiodX8E+L8jXEe/C5w2xPtoX2DJ4LRjqOfB87GOZnjNHj/d8x/DazZtTa37/cBngA8NDB/ZazawjLU+iwbap6pnnP/7w76vR/n5uD6fRUuAvdo49wF+yBx9Fq3vwy3mISTZCngccBjdz7igexN+rap+WlU3AF8DnpZkCbB1VZ1R3Su9HHj2HJbzJOAXVfWRiYaq+i7dh+h81LOWqrqO7gIwr2rfhA8AjquqW6vqcmAF3eVXR3kJ1inXUVWdVlWXtP4fAdcB27c69wNOaKMvY4TrCNgauKF1T/k+ajWeUVXXjLCOu9RTVT+cp3U03Wv2zalGHtNrNm1NSR4N7AB8dXCCUb9m03wWMVU94/7fZ4j39ThrGvazqKquqapz2zSrge8zz1ed7NVZ2T12APDvVfXDJNe3f4LpLiG6U+ue3D5Xfh04Z4r2+arnLqrqsnQ3JblfW9YZ0yx/cr2/NUclTLeOfinJPnRb6pcC2wE3VtXtU9Q4V+6d5Dxgc7pv6Pu19vm6FO109fzSmNfRTK/Z5knOBm4H3lVVXxxDPdPW1HaNvgf4Q+Apc7zM2Uz1WfSdaeoZx//+ur6vx/p5tA6fRQAkWQr8BnDmqGoahsE8nBfS7SaCbsvuhcCP568c3R3tW/sngUOq6s45Puw2nf+tqj3b8h8DLE/y6+NY8LrU07Zi5msdTecBVbUyyQOBU5JcANw0j/W8Ejipqq6eh/Uy1WfRY+axnr69r9db2xvxeeBPq+rm+azFYJ5Fkm3pvgU+IknRHZMo4C+AJw6MujNwKt1lRHee1H6XS4veDRcCB07RvnKe6rmL9gF6B91u0JkutTrrJVjX03TriCRbA18B3lBVE9+erwcWJdmkbYGNdB1V1beSLAa2Z/rXbWwm1XPdPK2jaV+zqlrZ/l6W5FS6LZrPj7iemWp6DPD4JK8EtgI2TXJLVY30HvIzfBZ9c6p66AJ8bP/7Q76vx/p5NOxnUZJ70b2nPl1V/zKqeoY2nwe4N4QH3TGKf5zUdhrwBOByuhMb7tu6t23DJ5/c8PQ5rCd0u1kOH2h7JN2JTWOvp81/8ISL7emOc02ccPFw1j7h4jK6D5RNWveu/Orkr4ePYR2dTPeNePI0n2PtE4leOcJ19FC6i+hvTHdyzJSv21TTjqGeTedjHc3wmj0e2Kz1LwYuoZ2YM4bXbNqaBvpfwsDJViN+zab9LJqunjH/7w/1vh5lTev5WRS6Y91/P9ev2Xo/j/kuoO8P4Bt0d70abPsT4MPAS+lOIFgBHDowfG/ge3TH5j5Eu5DLHNa0I90ZqZfSfav/CrD7PNZzB3Beq+W7wJ8DGw0Mf0Nb9sUMnIEJPJ3uDMhL6bbORr2O3gT8otU68dizjf/A9oGxgu4Df7MRraPz2jp6xsCw6V63v6E7DnZn+3vUqOuhO045X+toqtfsd4ALWo0XAIcNjD/SemaoafeB4S9h7SAc5Ws27WfRDPWM639/Xd7XI6uJ9fgsojuZroDzB57LnH6BWdeHV/6SJKlH/LmUJEk9YjBLktQjBrMkST1iMEuS1CMGsyRJPWIwSxuorH3XpfPS7tCV5F5J3tXu6nNuurtF7d+GbZNkebvDzqWte5tp5j/tnZWGrO8TSaa8aIik6XnlL2nD9cvLIU7yVrrrFv96Vd2aZAe63wMDfAz4XlUdDJDkLcBHgecNzqBd9P8LwLKqOqi1PYruRgk/HMFzkdT4O2ZpA9UuA7nVpLYt6G4esGtNut5vkt3o7vKzW1Xd0do2prsAxFOq6tKBcfejuzjGE6ZYbugupLE/3YUZ3lZVn23tHwSe2mq4Dfh4VZ3QbrbwXrpLRq4CXlLjuXOWtMFxi1nacE3c2WfCO+luWfc/k0O52QM4byKUAarqjjaPh9NdEWnCTHd7ei6wJ929iRcDZyU5ne4a0g9py9kBuAj4eLsO8QeBA6rqJ0leALyd7spQkiYxmKUN1112ZSd55BiW+zjg2Bbw1yY5DfhNuuvHT7T/KMkpbfyH0AX919rdjzYG3FqWpmEwS/csK4D7J9l6iq3mi4A9k2xUVXfCL+8tvGcbNmjauz2thwAXVtVj5mh+0j2aZ2VL9yBVtYbuBK/3J9kUIMn2SZ5XVSuA7wBvHJjkjcC5bdigU4DNkhw+0ZDkkUkeT3ebwRck2TjJ9nRbyt8GTh9oXwI8qU16MbB9u1/vxFnjD5/jpy7dYxjM0obr3pN+LvWu1v5G4CfARUm+B3wZmNh6Pgx4cPsJ1KXAg1vbWqo7K/Q5wFPauBfSHcP+Md3Z2ufT3b3nFOC1VTXRfgnd1vdy4FttXrfRbX2/O8l36e7e89i5XRXSPYdnZUuS1CNuMUuS1CMGsyRJPWIwS5LUIwazJEk9YjBLktQjBrMkST1iMEuS1CMGsyRJPfL/AfkwB7HXT7ySAAAAAElFTkSuQmCC\n",
      "text/plain": [
       "<Figure size 432x288 with 1 Axes>"
      ]
     },
     "metadata": {
      "needs_background": "light"
     },
     "output_type": "display_data"
    }
   ],
   "source": [
    "# unpack + sort sieved_black_win_count\n",
    "x, y = zip(*sorted(sieved_black_win_count.items(), key=lambda item: item[1], reverse=True))\n",
    "\n",
    "#setup + plot\n",
    "max_ytick = max(y) + max(y) // 10\n",
    "ystep = 10\n",
    "fig = plt.figure()\n",
    "ax = fig.add_axes([0, 0, 1, 1])\n",
    "ax.bar(x=x, height=y, color=project_pallet[\"black\"], edgecolor=project_pallet[\"white\"])\n",
    "ax.set_facecolor(project_pallet[\"background_1\"])\n",
    "\n",
    "plt.xlabel(\"ECO Code\")\n",
    "plt.ylabel(\"Number of Games\")\n",
    "plt.title(\"ECO Codes Most Commonly Won by Black\")\n",
    "plt.savefig(\"../../images/black_won_eco_codes.png\")"
   ]
  },
  {
   "cell_type": "markdown",
   "metadata": {},
   "source": [
    "<p> &nbsp;&nbsp;&nbsp;&nbsp; When observing only the ECO codes that lead to games being won by black, there is a noticeable gap {find a better word} between the code 'A00' and the rest. A conclusion can be drawn that because 'A00' is defined as uncommon openings, those uncommon openings often lead to white loosing either a material and/or positional advantage, allowing black to win. </p>"
   ]
  },
  {
   "cell_type": "code",
<<<<<<< HEAD
   "execution_count": 82,
   "id": "planned-secretary",
=======
   "execution_count": 8,
>>>>>>> cc8b1c3 (Reformated eda)
   "metadata": {},
   "outputs": [
    {
     "data": {
      "image/png": "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\n",
      "text/plain": [
       "<Figure size 432x288 with 1 Axes>"
      ]
     },
     "metadata": {
      "needs_background": "light"
     },
     "output_type": "display_data"
    }
   ],
   "source": [
    "# unpack + sort sieved_draw_occurences_count\n",
    "x, y = zip(*sorted(sieved_draw_occurences_count.items(), key=lambda item: item[1], reverse=True))\n",
    "\n",
    "#setup + plot\n",
    "max_ytick = max(y) + max(y) // 10\n",
    "ystep = 10\n",
    "fig = plt.figure()\n",
    "ax = fig.add_axes([0, 0, 1, 1])\n",
    "ax.bar(x=x, height=y, color=project_pallet[\"draw\"], edgecolor=project_pallet[\"white\"])\n",
    "ax.set_facecolor(project_pallet[\"background_1\"])\n",
    "\n",
    "plt.xlabel(\"ECO Code\")\n",
    "plt.ylabel(\"Number of Games\")\n",
    "plt.title(\"ECO Codes Most Commonly Drawn\")\n",
    "plt.savefig(\"../../images/drawn_eco_codes.png\")"
   ]
  },
  {
<<<<<<< HEAD
   "cell_type": "code",
   "execution_count": null,
   "id": "radical-oakland",
=======
   "cell_type": "markdown",
>>>>>>> cc8b1c3 (Reformated eda)
   "metadata": {},
   "source": [
    "\n",
    "<p> &nbsp;&nbsp;&nbsp;&nbsp; The ECO codes most common in games that are drawn reveal patterns similar to what had been previously seen when analysing games where white or black win. 'A00' is still present as the most popular, followed closely by 'D00' and 'C00'. This is consistent with the concept that opening on the outskirts of the board, starts white off with a disadvantage. 'D00' and 'C00' being commonly drawn is also consistent with basic game theory as they don't give either player a major advantage and allow for an even game if played correctly. </p>"
   ]
  },
  {
   "cell_type": "markdown",
   "id": "liked-fellowship",
   "metadata": {},
   "source": [
    "# 2.\n",
    "## a)"
   ]
  },
  {
   "cell_type": "code",
<<<<<<< HEAD
   "execution_count": null,
   "id": "violent-roommate",
=======
   "execution_count": 9,
>>>>>>> cc8b1c3 (Reformated eda)
   "metadata": {},
   "outputs": [
    {
     "data": {
      "image/png": "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\n",
      "text/plain": [
       "<Figure size 432x288 with 1 Axes>"
      ]
     },
     "metadata": {
      "needs_background": "light"
     },
     "output_type": "display_data"
    }
   ],
   "source": [
    "# opening vs outcome\n",
    "totals = utility.status_totals_dict\n",
    "sorted_sieved_status_dict = {k: v for k, v in sorted(sieved_status_dict.items(), key=lambda item: totals[item[0]], reverse=True)}\n",
    "x, y = zip(*sorted_sieved_status_dict.items())\n",
    "\n",
    "temp = [[], [], [], []]\n",
    "for d in y:\n",
    "    temp[0].append(d[\"draw\"])\n",
    "    temp[1].append(d[\"mate\"])\n",
    "    temp[2].append(d[\"outoftime\"])\n",
    "    temp[3].append(d[\"resign\"])\n",
    "y = temp\n",
    "\n",
    "#setup and plot\n",
    "max_ytick = max(*y[0], *y[1], *y[2], *y[3]) + max(*y[0], *y[1], *y[2], *y[3]) // 10\n",
    "ystep = 50\n",
    "index = np.arange(len(x))\n",
    "fig = plt.figure()\n",
    "ax = fig.add_axes([0, 0, 1, 1])\n",
    "\n",
    "ax.bar(index + 0.60, y[0], color=project_pallet[\"draw\"], width=0.20, edgecolor=project_pallet[\"black\"])\n",
    "ax.bar(index + 0.20, y[1], color=project_pallet[\"mate\"], width=0.20, edgecolor=project_pallet[\"black\"])\n",
    "ax.bar(index + 0.40, y[2], color=project_pallet[\"outoftime\"], width=0.20, edgecolor=project_pallet[\"black\"])\n",
    "ax.bar(index + 0.00, y[3], color=project_pallet[\"resign\"], width=0.20, edgecolor=project_pallet[\"black\"])\n",
    "ax.legend(title=\"Outcome\", labels=[\"Draw\", \"Mate\", \"OutofTime\", \"Resign\"])\n",
    "ax.set_xticks(index)\n",
    "ax.set_xticklabels(x)\n",
    "ax.set_yticks(np.arange(0, max_ytick, ystep))\n",
    "ax.set_facecolor(project_pallet[\"background_1\"])\n",
    "\n",
    "plt.xlabel(\"ECO Code\")\n",
    "plt.ylabel(\"Number of Games\")\n",
    "plt.title(\"Most Commonly Played ECO Codes\")\n",
    "plt.savefig(\"../../images/commonly_played_eco_codes_vs_outcome.png\")"
   ]
  },
  {
   "cell_type": "markdown",
   "id": "selected-handy",
   "metadata": {},
   "source": [
    "## Analysis\n",
    "\n",
    "<p> &nbsp;&nbsp;&nbsp;&nbsp; The above graph reveals more broad ideas than the previous ones and would need to be separated into graphs for white and black as well to get a more in depth analysis. What it does reveal, however, is that the most common opening ECO codes lead to roughly twice the amount of games being resigned than checkmating. This makes sense, as it's common to resign games where a player is loosing compared to playing out the game. Interestingly, 'C20' (King's pawn games) leads to that ratio being closer to half and half meaning it could potentially be easier to checkmate from that position. </p>"
   ]
  },
  {
<<<<<<< HEAD
   "cell_type": "code",
   "execution_count": null,
   "id": "blessed-choice",
=======
   "cell_type": "markdown",
>>>>>>> cc8b1c3 (Reformated eda)
   "metadata": {},
   "source": [
    "# Conclusions:\n",
    "\n",
    "<p> &nbsp;&nbsp;&nbsp;&nbsp; Most games last around 40-80 turns, mostly ending in resigns. As the number of turns increases, the more likely one of the players is to resign or for the game to be drawn. Games that start with 1. d4 d5 or e4 e5 are more commonly won by white or drawn, whereas flank games or games opened by asymmetrical play give a strong positional advantage to black. </p>"
   ]
  }
 ],
 "metadata": {
  "kernelspec": {
   "display_name": "Python 3",
   "language": "python",
   "name": "python3"
  },
  "language_info": {
   "codemirror_mode": {
    "name": "ipython",
    "version": 3
   },
   "file_extension": ".py",
   "mimetype": "text/x-python",
   "name": "python",
   "nbconvert_exporter": "python",
   "pygments_lexer": "ipython3",
   "version": "3.8.5"
  }
 },
 "nbformat": 4,
 "nbformat_minor": 5
}
