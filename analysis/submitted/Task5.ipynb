{
 "cells": [
  {
   "cell_type": "code",
   "execution_count": 1,
   "metadata": {},
   "outputs": [],
   "source": [
    "import seaborn as sns\n",
    "import pandas as pd\n",
    "import matplotlib.pyplot as plt\n",
    "\n",
    "from scripts import functions\n",
    "\n",
    "df = functions.load('../../data/processed/data.csv')"
   ]
  },
  {
   "cell_type": "markdown",
   "metadata": {},
   "source": [
    "**Task 5 Research Analysis**\n",
    "\n",
    "Research Question: What are the amount of turns in each game for White Winners, Black\n",
    "Winners. We also wanted to find out the amount of turns overall for each games. In the future\n",
    "we are looking to find an average number of turns for a winning game. This can be shown in the\n",
    "Scatterplot shown below.\n",
    "\n",
    "- It seems that the threshold of turns durastically increases in games that end as a draw, as oppopsed to a white winner or a a black winner.\n",
    "- It also seems that the difference between white and black winning is quite small. I would like to research the exact difference in the future."
   ]
  },
  {
   "cell_type": "markdown",
   "metadata": {},
   "source": [
    "In our analyses, we looked into the amount of turns each game, and formulated a histogram\n",
    "from the results which can be shown below. \n",
    "1. The majority of the games consisted of around 40 - 8 terms, with a steep drop off after that. \n",
    "2. Most games were less than 75 turns, afterwards the amount of games steeply falls.\n",
    "3. In the future, I would like to investigate how many games ended in a draw after around 150 turns."
   ]
  },
  {
   "cell_type": "code",
   "execution_count": 2,
   "metadata": {},
   "outputs": [
    {
     "data": {
      "image/png": "[encoded data removed]",
      "text/plain": [
       "<Figure size 432x288 with 1 Axes>"
      ]
     },
     "metadata": {
      "needs_background": "light"
     },
     "output_type": "display_data"
    }
   ],
   "source": [
    "ax = sns.countplot(y='victory_status', data=df,palette='colorblind', hue = 'victory_status')\n",
    "plt.title('The Amount of Each Victory Status')\n",
    "plt.savefig('victory_status.png')"
   ]
  },
  {
   "cell_type": "markdown",
   "metadata": {},
   "source": [
    "**Research Question:** \n",
    "\n",
    "What is the most common victory status? and Why?*\n",
    "In our analysis, first we wanted to understand what is the most common victory status.\n",
    "Eventually, we would like to determine why that certain status&#39; happen more than others, and\n",
    "what could lead to a specific one. Shown in the chat below is a countplot of the 3 victory status&;\n",
    "from our dataset:\n",
    "\n",
    "1. Mate\n",
    "2. Resign\n",
    "3. Draw\n",
    "\n",
    "\n",
    "Shown the above countplot, resign seems to be the most common victory status. It happens in\n",
    "almost double the amount of games that mate does. We are not sure why this is. Later in our\n",
    "analyses, we are going to see all the different types of openings to a match. This could be a\n",
    "possible effect of a victory status."
   ]
  },
  {
   "cell_type": "code",
   "execution_count": 3,
   "metadata": {},
   "outputs": [
    {
     "data": {
      "image/png": "[encoded data removed]",
      "text/plain": [
       "<Figure size 1080x360 with 1 Axes>"
      ]
     },
     "metadata": {
      "needs_background": "light"
     },
     "output_type": "display_data"
    }
   ],
   "source": [
    "df['turns'].plot(kind='hist', bins=50, figsize=(15,5), facecolor='green',edgecolor='black')\n",
    "plt.title('Number of Turns Each Game')\n",
    "plt.savefig('number_turns.png')"
   ]
  },
  {
   "cell_type": "code",
   "execution_count": 5,
   "metadata": {},
   "outputs": [
    {
     "name": "stdout",
     "output_type": "stream",
     "text": [
      "defaultdict(<function WinCount.__init__.<locals>.<lambda> at 0x000001E11CE29670>,\n",
      "            {'A00': {'black': 520, 'draw': 39, 'white': 369},\n",
      "             'A04': {'black': 92, 'draw': 27, 'white': 140},\n",
      "             'A40': {'black': 225, 'draw': 17, 'white': 306},\n",
      "             'A45': {'black': 119, 'draw': 15, 'white': 94},\n",
      "             'B00': {'black': 199, 'draw': 25, 'white': 335},\n",
      "             'B01': {'black': 295, 'draw': 25, 'white': 333},\n",
      "             'B07': {'black': 103, 'draw': 18, 'white': 157},\n",
      "             'B20': {'black': 292, 'draw': 20, 'white': 206},\n",
      "             'B21': {'black': 96, 'draw': 10, 'white': 99},\n",
      "             'B30': {'black': 117, 'draw': 6, 'white': 88},\n",
      "             'B50': {'black': 106, 'draw': 12, 'white': 85},\n",
      "             'C00': {'black': 355, 'draw': 37, 'white': 380},\n",
      "             'C02': {'black': 121, 'draw': 12, 'white': 125},\n",
      "             'C20': {'black': 315, 'draw': 20, 'white': 279},\n",
      "             'C40': {'black': 144, 'draw': 12, 'white': 244},\n",
      "             'C41': {'black': 243, 'draw': 27, 'white': 361},\n",
      "             'C42': {'black': 126, 'draw': 11, 'white': 166},\n",
      "             'C44': {'black': 163, 'draw': 6, 'white': 182},\n",
      "             'C45': {'black': 122, 'draw': 12, 'white': 132},\n",
      "             'C46': {'black': 95, 'draw': 11, 'white': 138},\n",
      "             'C50': {'black': 250, 'draw': 29, 'white': 227},\n",
      "             'C55': {'black': 116, 'draw': 15, 'white': 154},\n",
      "             'D00': {'black': 333, 'draw': 36, 'white': 317},\n",
      "             'D02': {'black': 175, 'draw': 19, 'white': 201}})\n"
     ]
    }
   ],
   "source": [
    "#The openings were investigated with their respective outcomes.\n",
    "#Which openings are most likely to result in a black win, white win, and draw?\n",
    "\n",
    "#filtered_df = functions.drop_uncommon_openings(df=df, threshold=50).sort_values(\"opening_name\").reset_index(drop=True)\n",
    "\n",
    "#fig, ax = plt.subplots() \n",
    "#fig.set_size_inches(12, 12)\n",
    "\n",
    "#sns.histplot(data=filtered_df, x='opening_name', hue='winner', stat='count')\n",
    "\n",
    "#for tick in ax.get_xticklabels():\n",
    "#    tick.set_rotation(90)\n",
    "    \n",
    "#plt.savefig('openings.png')\n",
    "\n",
    "from pprint import pprint\n",
    "\n",
    "win_count = functions.WinCount()\n",
    "win_count.setup(df)\n",
    "\n",
    "sieved_win_count = win_count.sieve(threshold=200)\n",
    "\n",
    "pprint(sieved_win_count)"
   ]
  }
 ],
 "metadata": {
  "kernelspec": {
   "display_name": "Python 3",
   "language": "python",
   "name": "python3"
  },
  "language_info": {
   "codemirror_mode": {
    "name": "ipython",
    "version": 3
   },
   "file_extension": ".py",
   "mimetype": "text/x-python",
   "name": "python",
   "nbconvert_exporter": "python",
   "pygments_lexer": "ipython3",
   "version": "3.9.1"
  }
 },
 "nbformat": 4,
 "nbformat_minor": 5
}
