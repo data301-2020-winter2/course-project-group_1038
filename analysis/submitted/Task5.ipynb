{
 "cells": [
  {
   "cell_type": "markdown",
   "id": "comparable-dietary",
   "metadata": {},
   "source": [
    "**Task 5**\n",
    "**Research Analysis**"
   ]
  },
  {
   "cell_type": "code",
   "execution_count": 4,
   "id": "rough-marble",
   "metadata": {},
   "outputs": [],
   "source": [
    "import pandas as pd \n",
    "import numpy as np\n",
    "import seaborn as sns \n",
    "import matplotlib.pylab as plt "
   ]
  },
  {
   "cell_type": "markdown",
   "id": "white-exception",
   "metadata": {},
   "source": [
    "**Research Questions**\n",
    "\n",
    "Research Question: What are the amount of turns in each game for White Winners, Black Winners. We also wanted to find out the amount of turns overall for each games. In the future we are looking to find an average number of turns for a winning game. "
   ]
  },
  {
   "cell_type": "code",
   "execution_count": null,
   "id": "turned-classroom",
   "metadata": {},
   "outputs": [],
   "source": [
    "import "
   ]
  }
 ],
 "metadata": {
  "kernelspec": {
   "display_name": "Python 3",
   "language": "python",
   "name": "python3"
  },
  "language_info": {
   "codemirror_mode": {
    "name": "ipython",
    "version": 3
   },
   "file_extension": ".py",
   "mimetype": "text/x-python",
   "name": "python",
   "nbconvert_exporter": "python",
   "pygments_lexer": "ipython3",
   "version": "3.8.5"
  }
 },
 "nbformat": 4,
 "nbformat_minor": 5
}
