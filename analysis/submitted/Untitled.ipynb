{
 "cells": [
  {
   "cell_type": "code",
   "execution_count": null,
   "id": "threatened-primary",
   "metadata": {},
   "outputs": [],
   "source": []
  },
  {
   "cell_type": "raw",
   "id": "special-canyon",
   "metadata": {},
   "source": []
  },
  {
   "cell_type": "code",
   "execution_count": 8,
   "id": "incorporate-security",
   "metadata": {},
   "outputs": [
    {
     "name": "stdout",
     "output_type": "stream",
     "text": [
      "analysis/laura/openings.png\n"
     ]
    }
   ],
   "source": [
    "## Summary of the analysis of the individual EDA\n",
    "#The most frequent openings and their outcomes were investigated.\n",
    "print(analysis/laura/openings.png)"
   ]
  },
  {
   "cell_type": "code",
   "execution_count": null,
   "id": "sensitive-coaching",
   "metadata": {},
   "outputs": [],
   "source": []
  }
 ],
 "metadata": {
  "kernelspec": {
   "display_name": "Python 3",
   "language": "python",
   "name": "python3"
  },
  "language_info": {
   "codemirror_mode": {
    "name": "ipython",
    "version": 3
   },
   "file_extension": ".py",
   "mimetype": "text/x-python",
   "name": "python",
   "nbconvert_exporter": "python",
   "pygments_lexer": "ipython3",
   "version": "3.8.5"
  }
 },
 "nbformat": 4,
 "nbformat_minor": 5
}
